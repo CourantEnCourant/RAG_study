{
 "cells": [
  {
   "cell_type": "markdown",
   "metadata": {},
   "source": [
    "https://huggingface.co/datasets/qiaojin/PubMedQA"
   ]
  },
  {
   "cell_type": "code",
   "execution_count": 13,
   "metadata": {},
   "outputs": [],
   "source": [
    "import logging\n",
    "from datasets import load_dataset\n",
    "from transformers import AutoTokenizer, AutoModelForCausalLM\n",
    "import torch\n",
    "import random\n",
    "import string"
   ]
  },
  {
   "cell_type": "code",
   "execution_count": 2,
   "metadata": {},
   "outputs": [],
   "source": [
    "logging.basicConfig(level=logging.INFO)\n",
    "logger = logging.getLogger(\"PubMedQA Evaluation\")"
   ]
  },
  {
   "cell_type": "code",
   "execution_count": 4,
   "metadata": {},
   "outputs": [
    {
     "name": "stderr",
     "output_type": "stream",
     "text": [
      "Special tokens have been added in the vocabulary, make sure the associated word embeddings are fine-tuned or trained.\n",
      "Downloading shards: 100%|██████████| 4/4 [04:24<00:00, 66.17s/it]\n",
      "Loading checkpoint shards: 100%|██████████| 4/4 [00:03<00:00,  1.33it/s]\n"
     ]
    }
   ],
   "source": [
    "MODEL_NAME = \"HPAI-BSC/Llama3-Aloe-8B-Alpha\"\n",
    "if torch.backends.mps.is_available():\n",
    "    device = torch.device(\"mps\")\n",
    "elif torch.cuda.is_available():\n",
    "    device = torch.device(\"cuda\")\n",
    "else:\n",
    "    device = torch.device(\"cpu\")\n",
    "\n",
    "tokenizer = AutoTokenizer.from_pretrained(MODEL_NAME)\n",
    "model = AutoModelForCausalLM.from_pretrained(\n",
    "    MODEL_NAME,\n",
    "    torch_dtype=torch.bfloat16,\n",
    "    device_map=\"auto\",\n",
    ")"
   ]
  },
  {
   "cell_type": "code",
   "execution_count": 11,
   "metadata": {},
   "outputs": [
    {
     "name": "stderr",
     "output_type": "stream",
     "text": [
      "The attention mask and the pad token id were not set. As a consequence, you may observe unexpected behavior. Please pass your input's `attention_mask` to obtain reliable results.\n",
      "Setting `pad_token_id` to `eos_token_id`:128001 for open-end generation.\n"
     ]
    },
    {
     "name": "stdout",
     "output_type": "stream",
     "text": [
      "Yes.\n"
     ]
    }
   ],
   "source": [
    "messages = [\n",
    "    {\"role\": \"system\", \"content\": \"Asnwer the question only with yes, no or maybe. You don't need say anything else.\"},\n",
    "    {\"role\": \"user\", \"content\": \"Are group 2 innate lymphoid cells ( ILC2s ) increased in chronic rhinosinusitis with nasal polyps or eosinophilia?\"},\n",
    "]\n",
    "\n",
    "input_ids = tokenizer.apply_chat_template(\n",
    "    messages,\n",
    "    add_generation_prompt=True,\n",
    "    return_tensors=\"pt\"\n",
    ").to(model.device)\n",
    "\n",
    "terminators = [\n",
    "    tokenizer.eos_token_id,\n",
    "    tokenizer.convert_tokens_to_ids(\"<|eot_id|>\")\n",
    "]\n",
    "\n",
    "outputs = model.generate(\n",
    "    input_ids,\n",
    "    max_new_tokens=256,\n",
    "    eos_token_id=terminators,\n",
    "    do_sample=True,\n",
    "    temperature=0.6,\n",
    "    top_p=0.9,\n",
    ")\n",
    "response = outputs[0][input_ids.shape[-1]:]\n",
    "answer = tokenizer.decode(response, skip_special_tokens=True)\n",
    "\n",
    "print(answer)"
   ]
  },
  {
   "cell_type": "code",
   "execution_count": 12,
   "metadata": {},
   "outputs": [
    {
     "name": "stderr",
     "output_type": "stream",
     "text": [
      "INFO:PubMedQA Evaluation:Loading PubMedQA dataset...\n"
     ]
    }
   ],
   "source": [
    "logger.info(\"Loading PubMedQA dataset...\")\n",
    "dataset = load_dataset(\"qiaojin/PubMedQA\", \"pqa_labeled\", streaming=True)[\"train\"]"
   ]
  },
  {
   "cell_type": "code",
   "execution_count": 19,
   "metadata": {},
   "outputs": [],
   "source": [
    "MAX_SAMPLES = 5 # Limit the dataset size for quicker experimentation\n",
    "\n",
    "# Convert the iterable dataset to a list and then slice it\n",
    "dataset_list = list(dataset)\n",
    "subset = dataset_list[:min(MAX_SAMPLES, len(dataset_list))]\n",
    "\n",
    "def generate_answer(question, context, mode):\n",
    "    if mode in [\"rag\", \"raft\"]:\n",
    "        messages = [\n",
    "            {\"role\": \"system\", \"content\": f\"Asnwer the question only with yes, no or maybe. You don't need say anything else. Context: {context}\"},\n",
    "            {\"role\": \"user\", \"content\": f\"{question}\"},\n",
    "        ]\n",
    "    else:\n",
    "        messages = [\n",
    "            {\"role\": \"system\", \"content\": \"Asnwer the question only with yes, no or maybe. You don't need say anything else.\"},\n",
    "            {\"role\": \"user\", \"content\": f\"{question}\"},\n",
    "        ]\n",
    "\n",
    "    input_ids = tokenizer.apply_chat_template(\n",
    "        messages,\n",
    "        add_generation_prompt=True,\n",
    "        return_tensors=\"pt\"\n",
    "    ).to(model.device)\n",
    "\n",
    "    terminators = [\n",
    "        tokenizer.eos_token_id,\n",
    "        tokenizer.convert_tokens_to_ids(\"<|eot_id|>\")\n",
    "    ]\n",
    "\n",
    "    outputs = model.generate(\n",
    "        input_ids,\n",
    "        max_new_tokens=256,\n",
    "        eos_token_id=terminators,\n",
    "        do_sample=True,\n",
    "        temperature=0.6,\n",
    "        top_p=0.9,\n",
    "    )\n",
    "    response = outputs[0][input_ids.shape[-1]:]\n",
    "    answer = tokenizer.decode(response, skip_special_tokens=True)\n",
    "    \n",
    "    return answer.translate(str.maketrans('', '', string.punctuation)).split()[0]"
   ]
  },
  {
   "cell_type": "code",
   "execution_count": 15,
   "metadata": {},
   "outputs": [],
   "source": [
    "NUM_DISTRACT = 3\n",
    "\n",
    "def evaluate_model(dataset, mode):\n",
    "\n",
    "    correct = 0\n",
    "    total = 0\n",
    "\n",
    "    for data in dataset:\n",
    "        i = dataset.index(data)\n",
    "        question = data[\"question\"]\n",
    "        if mode == \"rag\":\n",
    "            context = \"\".join(data[\"context\"][\"contexts\"])\n",
    "        elif mode == \"raft\":\n",
    "            docs = data[\"context\"][\"contexts\"]\n",
    "            # Add distractors to the context\n",
    "            indices = list(range(0, len(dataset)))\n",
    "            indices.remove(i)\n",
    "            for j in random.sample(indices, NUM_DISTRACT):\n",
    "                docs.append(\"\".join(dataset[j][\"context\"][\"contexts\"]))\n",
    "            # Decide whether to add oracle document\n",
    "            oracle = random.uniform(0, 1) < 0.8\n",
    "            if not oracle:\n",
    "                docs[0] = \"\".join(dataset[i][\"context\"][\"contexts\"])\n",
    "            random.shuffle(docs)\n",
    "            context = \"\".join(docs)\n",
    "        else:\n",
    "            context = None\n",
    "        final_decision = data[\"final_decision\"]\n",
    "\n",
    "        generated_answer = generate_answer(question, context=context, mode=mode)\n",
    "        logger.info(f\"Answer: {generated_answer}, Expected: {final_decision}\")\n",
    "\n",
    "        if generated_answer.lower() == final_decision.lower():\n",
    "            correct += 1\n",
    "\n",
    "        total += 1\n",
    "        logger.info(f\"Processed {total}/{len(dataset)} samples in {mode} mode.\")\n",
    "\n",
    "    return correct / total if total > 0 else 0.0"
   ]
  },
  {
   "cell_type": "code",
   "execution_count": 20,
   "metadata": {},
   "outputs": [
    {
     "name": "stderr",
     "output_type": "stream",
     "text": [
      "INFO:PubMedQA Evaluation:Evaluating RAFT mode...\n",
      "The attention mask and the pad token id were not set. As a consequence, you may observe unexpected behavior. Please pass your input's `attention_mask` to obtain reliable results.\n",
      "Setting `pad_token_id` to `eos_token_id`:128001 for open-end generation.\n",
      "INFO:PubMedQA Evaluation:Answer: Yes, Expected: yes\n",
      "INFO:PubMedQA Evaluation:Processed 1/5 samples in raft mode.\n",
      "The attention mask and the pad token id were not set. As a consequence, you may observe unexpected behavior. Please pass your input's `attention_mask` to obtain reliable results.\n",
      "Setting `pad_token_id` to `eos_token_id`:128001 for open-end generation.\n",
      "INFO:PubMedQA Evaluation:Answer: Yes, Expected: no\n",
      "INFO:PubMedQA Evaluation:Processed 2/5 samples in raft mode.\n",
      "The attention mask and the pad token id were not set. As a consequence, you may observe unexpected behavior. Please pass your input's `attention_mask` to obtain reliable results.\n",
      "Setting `pad_token_id` to `eos_token_id`:128001 for open-end generation.\n",
      "INFO:PubMedQA Evaluation:Answer: Yes, Expected: yes\n",
      "INFO:PubMedQA Evaluation:Processed 3/5 samples in raft mode.\n",
      "The attention mask and the pad token id were not set. As a consequence, you may observe unexpected behavior. Please pass your input's `attention_mask` to obtain reliable results.\n",
      "Setting `pad_token_id` to `eos_token_id`:128001 for open-end generation.\n",
      "INFO:PubMedQA Evaluation:Answer: No, Expected: no\n",
      "INFO:PubMedQA Evaluation:Processed 4/5 samples in raft mode.\n",
      "The attention mask and the pad token id were not set. As a consequence, you may observe unexpected behavior. Please pass your input's `attention_mask` to obtain reliable results.\n",
      "Setting `pad_token_id` to `eos_token_id`:128001 for open-end generation.\n",
      "INFO:PubMedQA Evaluation:Answer: Yes, Expected: yes\n",
      "INFO:PubMedQA Evaluation:Processed 5/5 samples in raft mode.\n"
     ]
    }
   ],
   "source": [
    "logger.info(\"Evaluating RAFT mode...\")\n",
    "raft_accuracy = evaluate_model(subset, mode=\"raft\")\n"
   ]
  },
  {
   "cell_type": "code",
   "execution_count": 21,
   "metadata": {},
   "outputs": [
    {
     "name": "stderr",
     "output_type": "stream",
     "text": [
      "INFO:PubMedQA Evaluation:Evaluating RAG mode...\n",
      "The attention mask and the pad token id were not set. As a consequence, you may observe unexpected behavior. Please pass your input's `attention_mask` to obtain reliable results.\n",
      "Setting `pad_token_id` to `eos_token_id`:128001 for open-end generation.\n",
      "INFO:PubMedQA Evaluation:Answer: Yes, Expected: yes\n",
      "INFO:PubMedQA Evaluation:Processed 1/5 samples in rag mode.\n",
      "The attention mask and the pad token id were not set. As a consequence, you may observe unexpected behavior. Please pass your input's `attention_mask` to obtain reliable results.\n",
      "Setting `pad_token_id` to `eos_token_id`:128001 for open-end generation.\n",
      "INFO:PubMedQA Evaluation:Answer: No, Expected: no\n",
      "INFO:PubMedQA Evaluation:Processed 2/5 samples in rag mode.\n",
      "The attention mask and the pad token id were not set. As a consequence, you may observe unexpected behavior. Please pass your input's `attention_mask` to obtain reliable results.\n",
      "Setting `pad_token_id` to `eos_token_id`:128001 for open-end generation.\n",
      "INFO:PubMedQA Evaluation:Answer: Yes, Expected: yes\n",
      "INFO:PubMedQA Evaluation:Processed 3/5 samples in rag mode.\n",
      "The attention mask and the pad token id were not set. As a consequence, you may observe unexpected behavior. Please pass your input's `attention_mask` to obtain reliable results.\n",
      "Setting `pad_token_id` to `eos_token_id`:128001 for open-end generation.\n",
      "INFO:PubMedQA Evaluation:Answer: No, Expected: no\n",
      "INFO:PubMedQA Evaluation:Processed 4/5 samples in rag mode.\n",
      "The attention mask and the pad token id were not set. As a consequence, you may observe unexpected behavior. Please pass your input's `attention_mask` to obtain reliable results.\n",
      "Setting `pad_token_id` to `eos_token_id`:128001 for open-end generation.\n",
      "INFO:PubMedQA Evaluation:Answer: Yes, Expected: yes\n",
      "INFO:PubMedQA Evaluation:Processed 5/5 samples in rag mode.\n"
     ]
    }
   ],
   "source": [
    "\n",
    "logger.info(\"Evaluating RAG mode...\")\n",
    "rag_accuracy = evaluate_model(subset, mode=\"rag\")\n"
   ]
  },
  {
   "cell_type": "code",
   "execution_count": 22,
   "metadata": {},
   "outputs": [
    {
     "name": "stderr",
     "output_type": "stream",
     "text": [
      "INFO:PubMedQA Evaluation:Evaluating Direct mode...\n",
      "The attention mask and the pad token id were not set. As a consequence, you may observe unexpected behavior. Please pass your input's `attention_mask` to obtain reliable results.\n",
      "Setting `pad_token_id` to `eos_token_id`:128001 for open-end generation.\n",
      "INFO:PubMedQA Evaluation:Answer: Maybe, Expected: yes\n",
      "INFO:PubMedQA Evaluation:Processed 1/5 samples in direct mode.\n",
      "The attention mask and the pad token id were not set. As a consequence, you may observe unexpected behavior. Please pass your input's `attention_mask` to obtain reliable results.\n",
      "Setting `pad_token_id` to `eos_token_id`:128001 for open-end generation.\n",
      "INFO:PubMedQA Evaluation:Answer: Maybe, Expected: no\n",
      "INFO:PubMedQA Evaluation:Processed 2/5 samples in direct mode.\n",
      "The attention mask and the pad token id were not set. As a consequence, you may observe unexpected behavior. Please pass your input's `attention_mask` to obtain reliable results.\n",
      "Setting `pad_token_id` to `eos_token_id`:128001 for open-end generation.\n",
      "INFO:PubMedQA Evaluation:Answer: Maybe, Expected: yes\n",
      "INFO:PubMedQA Evaluation:Processed 3/5 samples in direct mode.\n",
      "The attention mask and the pad token id were not set. As a consequence, you may observe unexpected behavior. Please pass your input's `attention_mask` to obtain reliable results.\n",
      "Setting `pad_token_id` to `eos_token_id`:128001 for open-end generation.\n",
      "INFO:PubMedQA Evaluation:Answer: Maybe, Expected: no\n",
      "INFO:PubMedQA Evaluation:Processed 4/5 samples in direct mode.\n",
      "The attention mask and the pad token id were not set. As a consequence, you may observe unexpected behavior. Please pass your input's `attention_mask` to obtain reliable results.\n",
      "Setting `pad_token_id` to `eos_token_id`:128001 for open-end generation.\n",
      "INFO:PubMedQA Evaluation:Answer: Yes, Expected: yes\n",
      "INFO:PubMedQA Evaluation:Processed 5/5 samples in direct mode.\n"
     ]
    }
   ],
   "source": [
    "\n",
    "logger.info(\"Evaluating Direct mode...\")\n",
    "direct_accuracy = evaluate_model(subset, mode=\"direct\")"
   ]
  },
  {
   "cell_type": "code",
   "execution_count": 23,
   "metadata": {},
   "outputs": [
    {
     "name": "stdout",
     "output_type": "stream",
     "text": [
      "\n",
      "Evaluation Results:\n",
      "RAFT Accuracy: 80.00%\n",
      "RAG Accuracy: 100.00%\n",
      "Direct Accuracy: 20.00%\n"
     ]
    }
   ],
   "source": [
    "print(\"\\nEvaluation Results:\")\n",
    "print(f\"RAFT Accuracy: {raft_accuracy * 100:.2f}%\")\n",
    "print(f\"RAG Accuracy: {rag_accuracy * 100:.2f}%\")\n",
    "print(f\"Direct Accuracy: {direct_accuracy * 100:.2f}%\")"
   ]
  }
 ],
 "metadata": {
  "kernelspec": {
   "display_name": "env_rag",
   "language": "python",
   "name": "env_rag"
  },
  "language_info": {
   "codemirror_mode": {
    "name": "ipython",
    "version": 3
   },
   "file_extension": ".py",
   "mimetype": "text/x-python",
   "name": "python",
   "nbconvert_exporter": "python",
   "pygments_lexer": "ipython3",
   "version": "3.11.11"
  }
 },
 "nbformat": 4,
 "nbformat_minor": 2
}
