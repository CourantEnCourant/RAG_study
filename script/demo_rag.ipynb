{
 "cells": [
  {
   "cell_type": "markdown",
   "metadata": {},
   "source": [
    "https://huggingface.co/google/flan-t5-large"
   ]
  },
  {
   "cell_type": "code",
   "execution_count": 3,
   "metadata": {},
   "outputs": [
    {
     "name": "stderr",
     "output_type": "stream",
     "text": [
      "INFO:huggingface_script:Starting the Hugging Face processing script...\n",
      "INFO:huggingface_script:Retrieving chunks from ../data/sample_data/UC_Berkeley_short.pdf of type pdf\n",
      "INFO:huggingface_script:Splitting text into 30 chunks.\n",
      "INFO:huggingface_script:Adding chunk 0/30\n",
      "/Users/shen/.pyenv/versions/3.11.10/envs/env_raft/lib/python3.11/site-packages/huggingface_hub/file_download.py:795: FutureWarning: `resume_download` is deprecated and will be removed in version 1.0.0. Downloads always resume when possible. If you want to force a new download, use `force_download=True`.\n",
      "  warnings.warn(\n"
     ]
    },
    {
     "name": "stdout",
     "output_type": "stream",
     "text": [
      "['What is the motto of the University of California, Berkeley?', 'What is the motto of the University of California?', 'What is the motto of the University of California in Berkeley?', 'What was the former name of the University of California?', 'What was the motto of the University of California?']\n"
     ]
    },
    {
     "name": "stderr",
     "output_type": "stream",
     "text": [
      "/Users/shen/.pyenv/versions/3.11.10/envs/env_raft/lib/python3.11/site-packages/huggingface_hub/file_download.py:795: FutureWarning: `resume_download` is deprecated and will be removed in version 1.0.0. Downloads always resume when possible. If you want to force a new download, use `force_download=True`.\n",
      "  warnings.warn(\n",
      "INFO:huggingface_script:Adding chunk 1/30\n"
     ]
    },
    {
     "name": "stdout",
     "output_type": "stream",
     "text": [
      "['In what year was the University of California, Berkeley established?', 'What state is the University of California, Berkeley located in?', 'What state is the University of California, Berkeley in?', 'In what year was the University of California, Berkeley founded?', 'In what year was the University of California established?']\n"
     ]
    },
    {
     "ename": "KeyboardInterrupt",
     "evalue": "",
     "output_type": "error",
     "traceback": [
      "\u001b[0;31m---------------------------------------------------------------------------\u001b[0m",
      "\u001b[0;31mKeyboardInterrupt\u001b[0m                         Traceback (most recent call last)",
      "Cell \u001b[0;32mIn[3], line 16\u001b[0m\n\u001b[1;32m      6\u001b[0m \u001b[38;5;66;03m# python3 raft_local.py --datapath sample_data/UC_Berkeley_short.pdf --output ./sample_ds4 --chunk_size 512 --questions 5 --doctype pdf --fast\u001b[39;00m\n\u001b[1;32m      7\u001b[0m sys\u001b[38;5;241m.\u001b[39margv \u001b[38;5;241m=\u001b[39m [\n\u001b[1;32m      8\u001b[0m     \u001b[38;5;124m\"\u001b[39m\u001b[38;5;124mraft_local.py\u001b[39m\u001b[38;5;124m\"\u001b[39m,\n\u001b[1;32m      9\u001b[0m     \u001b[38;5;124m\"\u001b[39m\u001b[38;5;124m--datapath\u001b[39m\u001b[38;5;124m\"\u001b[39m, \u001b[38;5;124m\"\u001b[39m\u001b[38;5;124m../data/sample_data/UC_Berkeley_short.pdf\u001b[39m\u001b[38;5;124m\"\u001b[39m, \n\u001b[0;32m   (...)\u001b[0m\n\u001b[1;32m     14\u001b[0m     \u001b[38;5;124m\"\u001b[39m\u001b[38;5;124m--fast\u001b[39m\u001b[38;5;124m\"\u001b[39m\n\u001b[1;32m     15\u001b[0m ]\n\u001b[0;32m---> 16\u001b[0m \u001b[43mraft_local\u001b[49m\u001b[38;5;241;43m.\u001b[39;49m\u001b[43mmain\u001b[49m\u001b[43m(\u001b[49m\u001b[43m)\u001b[49m\n",
      "File \u001b[0;32m~/workspace/TAL M2/DS/RAG_study/script/raft_local.py:293\u001b[0m, in \u001b[0;36mmain\u001b[0;34m()\u001b[0m\n\u001b[1;32m    291\u001b[0m         perc \u001b[38;5;241m=\u001b[39m ceil(i \u001b[38;5;241m/\u001b[39m num_chunks \u001b[38;5;241m*\u001b[39m \u001b[38;5;241m100\u001b[39m)\n\u001b[1;32m    292\u001b[0m         logger\u001b[38;5;241m.\u001b[39minfo(\u001b[38;5;124mf\u001b[39m\u001b[38;5;124m\"\u001b[39m\u001b[38;5;124mAdding chunk \u001b[39m\u001b[38;5;132;01m{\u001b[39;00mi\u001b[38;5;132;01m}\u001b[39;00m\u001b[38;5;124m/\u001b[39m\u001b[38;5;132;01m{\u001b[39;00mnum_chunks\u001b[38;5;132;01m}\u001b[39;00m\u001b[38;5;124m\"\u001b[39m)\n\u001b[0;32m--> 293\u001b[0m         \u001b[43madd_chunk_to_dataset\u001b[49m\u001b[43m(\u001b[49m\u001b[43mchunks\u001b[49m\u001b[43m,\u001b[49m\u001b[43m \u001b[49m\u001b[43mchunk\u001b[49m\u001b[43m,\u001b[49m\u001b[43m \u001b[49m\u001b[43margs\u001b[49m\u001b[38;5;241;43m.\u001b[39;49m\u001b[43mdoctype\u001b[49m\u001b[43m,\u001b[49m\u001b[43m \u001b[49m\u001b[43margs\u001b[49m\u001b[38;5;241;43m.\u001b[39;49m\u001b[43mquestions\u001b[49m\u001b[43m,\u001b[49m\u001b[43m \u001b[49m\u001b[43mNUM_DISTRACT_DOCS\u001b[49m\u001b[43m)\u001b[49m\n\u001b[1;32m    295\u001b[0m \u001b[38;5;66;03m# Save the final dataset\u001b[39;00m\n\u001b[1;32m    296\u001b[0m ds\u001b[38;5;241m.\u001b[39msave_to_disk(args\u001b[38;5;241m.\u001b[39moutput)\n",
      "File \u001b[0;32m~/workspace/TAL M2/DS/RAG_study/script/raft_local.py:206\u001b[0m, in \u001b[0;36madd_chunk_to_dataset\u001b[0;34m(chunks, chunk, doctype, x, num_distract, p, model_name_qg, model_name_qa)\u001b[0m\n\u001b[1;32m    203\u001b[0m datapt[\u001b[38;5;124m\"\u001b[39m\u001b[38;5;124moracle_context\u001b[39m\u001b[38;5;124m\"\u001b[39m] \u001b[38;5;241m=\u001b[39m chunk\n\u001b[1;32m    205\u001b[0m \u001b[38;5;66;03m# Add the answer generated by the Hugging Face model\u001b[39;00m\n\u001b[0;32m--> 206\u001b[0m datapt[\u001b[38;5;124m\"\u001b[39m\u001b[38;5;124mcot_answer\u001b[39m\u001b[38;5;124m\"\u001b[39m] \u001b[38;5;241m=\u001b[39m \u001b[43mgenerate_label_hf\u001b[49m\u001b[43m(\u001b[49m\u001b[43mq\u001b[49m\u001b[43m,\u001b[49m\u001b[43m \u001b[49m\u001b[43mchunk\u001b[49m\u001b[43m,\u001b[49m\u001b[43m \u001b[49m\u001b[43mmodel_name\u001b[49m\u001b[38;5;241;43m=\u001b[39;49m\u001b[43mmodel_name_qa\u001b[49m\u001b[43m)\u001b[49m\n\u001b[1;32m    208\u001b[0m \u001b[38;5;66;03m# Construct model instruction\u001b[39;00m\n\u001b[1;32m    209\u001b[0m context \u001b[38;5;241m=\u001b[39m \u001b[38;5;124m\"\u001b[39m\u001b[38;5;124m\"\u001b[39m\n",
      "File \u001b[0;32m~/workspace/TAL M2/DS/RAG_study/script/raft_local.py:137\u001b[0m, in \u001b[0;36mgenerate_label_hf\u001b[0;34m(question, context, model_name)\u001b[0m\n\u001b[1;32m    134\u001b[0m \u001b[38;5;28;01melse\u001b[39;00m:\n\u001b[1;32m    135\u001b[0m     device \u001b[38;5;241m=\u001b[39m torch\u001b[38;5;241m.\u001b[39mdevice(\u001b[38;5;124m\"\u001b[39m\u001b[38;5;124mcpu\u001b[39m\u001b[38;5;124m\"\u001b[39m)\n\u001b[0;32m--> 137\u001b[0m \u001b[43mmodel\u001b[49m\u001b[38;5;241;43m.\u001b[39;49m\u001b[43mto\u001b[49m\u001b[43m(\u001b[49m\u001b[43mdevice\u001b[49m\u001b[43m)\u001b[49m\n\u001b[1;32m    139\u001b[0m inputs \u001b[38;5;241m=\u001b[39m tokenizer(question, context, return_tensors\u001b[38;5;241m=\u001b[39m\u001b[38;5;124m\"\u001b[39m\u001b[38;5;124mpt\u001b[39m\u001b[38;5;124m\"\u001b[39m)\u001b[38;5;241m.\u001b[39mto(device)\n\u001b[1;32m    141\u001b[0m \u001b[38;5;28;01mwith\u001b[39;00m torch\u001b[38;5;241m.\u001b[39mno_grad():\n",
      "File \u001b[0;32m~/.pyenv/versions/3.11.10/envs/env_raft/lib/python3.11/site-packages/transformers/modeling_utils.py:2595\u001b[0m, in \u001b[0;36mPreTrainedModel.to\u001b[0;34m(self, *args, **kwargs)\u001b[0m\n\u001b[1;32m   2590\u001b[0m     \u001b[38;5;28;01mif\u001b[39;00m dtype_present_in_args:\n\u001b[1;32m   2591\u001b[0m         \u001b[38;5;28;01mraise\u001b[39;00m \u001b[38;5;167;01mValueError\u001b[39;00m(\n\u001b[1;32m   2592\u001b[0m             \u001b[38;5;124m\"\u001b[39m\u001b[38;5;124mYou cannot cast a GPTQ model in a new `dtype`. Make sure to load the model using `from_pretrained` using the desired\u001b[39m\u001b[38;5;124m\"\u001b[39m\n\u001b[1;32m   2593\u001b[0m             \u001b[38;5;124m\"\u001b[39m\u001b[38;5;124m `dtype` by passing the correct `torch_dtype` argument.\u001b[39m\u001b[38;5;124m\"\u001b[39m\n\u001b[1;32m   2594\u001b[0m         )\n\u001b[0;32m-> 2595\u001b[0m \u001b[38;5;28;01mreturn\u001b[39;00m \u001b[38;5;28;43msuper\u001b[39;49m\u001b[43m(\u001b[49m\u001b[43m)\u001b[49m\u001b[38;5;241;43m.\u001b[39;49m\u001b[43mto\u001b[49m\u001b[43m(\u001b[49m\u001b[38;5;241;43m*\u001b[39;49m\u001b[43margs\u001b[49m\u001b[43m,\u001b[49m\u001b[43m \u001b[49m\u001b[38;5;241;43m*\u001b[39;49m\u001b[38;5;241;43m*\u001b[39;49m\u001b[43mkwargs\u001b[49m\u001b[43m)\u001b[49m\n",
      "File \u001b[0;32m~/.pyenv/versions/3.11.10/envs/env_raft/lib/python3.11/site-packages/torch/nn/modules/module.py:1145\u001b[0m, in \u001b[0;36mModule.to\u001b[0;34m(self, *args, **kwargs)\u001b[0m\n\u001b[1;32m   1141\u001b[0m         \u001b[38;5;28;01mreturn\u001b[39;00m t\u001b[38;5;241m.\u001b[39mto(device, dtype \u001b[38;5;28;01mif\u001b[39;00m t\u001b[38;5;241m.\u001b[39mis_floating_point() \u001b[38;5;129;01mor\u001b[39;00m t\u001b[38;5;241m.\u001b[39mis_complex() \u001b[38;5;28;01melse\u001b[39;00m \u001b[38;5;28;01mNone\u001b[39;00m,\n\u001b[1;32m   1142\u001b[0m                     non_blocking, memory_format\u001b[38;5;241m=\u001b[39mconvert_to_format)\n\u001b[1;32m   1143\u001b[0m     \u001b[38;5;28;01mreturn\u001b[39;00m t\u001b[38;5;241m.\u001b[39mto(device, dtype \u001b[38;5;28;01mif\u001b[39;00m t\u001b[38;5;241m.\u001b[39mis_floating_point() \u001b[38;5;129;01mor\u001b[39;00m t\u001b[38;5;241m.\u001b[39mis_complex() \u001b[38;5;28;01melse\u001b[39;00m \u001b[38;5;28;01mNone\u001b[39;00m, non_blocking)\n\u001b[0;32m-> 1145\u001b[0m \u001b[38;5;28;01mreturn\u001b[39;00m \u001b[38;5;28;43mself\u001b[39;49m\u001b[38;5;241;43m.\u001b[39;49m\u001b[43m_apply\u001b[49m\u001b[43m(\u001b[49m\u001b[43mconvert\u001b[49m\u001b[43m)\u001b[49m\n",
      "File \u001b[0;32m~/.pyenv/versions/3.11.10/envs/env_raft/lib/python3.11/site-packages/torch/nn/modules/module.py:797\u001b[0m, in \u001b[0;36mModule._apply\u001b[0;34m(self, fn)\u001b[0m\n\u001b[1;32m    795\u001b[0m \u001b[38;5;28;01mdef\u001b[39;00m\u001b[38;5;250m \u001b[39m\u001b[38;5;21m_apply\u001b[39m(\u001b[38;5;28mself\u001b[39m, fn):\n\u001b[1;32m    796\u001b[0m     \u001b[38;5;28;01mfor\u001b[39;00m module \u001b[38;5;129;01min\u001b[39;00m \u001b[38;5;28mself\u001b[39m\u001b[38;5;241m.\u001b[39mchildren():\n\u001b[0;32m--> 797\u001b[0m         \u001b[43mmodule\u001b[49m\u001b[38;5;241;43m.\u001b[39;49m\u001b[43m_apply\u001b[49m\u001b[43m(\u001b[49m\u001b[43mfn\u001b[49m\u001b[43m)\u001b[49m\n\u001b[1;32m    799\u001b[0m     \u001b[38;5;28;01mdef\u001b[39;00m\u001b[38;5;250m \u001b[39m\u001b[38;5;21mcompute_should_use_set_data\u001b[39m(tensor, tensor_applied):\n\u001b[1;32m    800\u001b[0m         \u001b[38;5;28;01mif\u001b[39;00m torch\u001b[38;5;241m.\u001b[39m_has_compatible_shallow_copy_type(tensor, tensor_applied):\n\u001b[1;32m    801\u001b[0m             \u001b[38;5;66;03m# If the new tensor has compatible tensor type as the existing tensor,\u001b[39;00m\n\u001b[1;32m    802\u001b[0m             \u001b[38;5;66;03m# the current behavior is to change the tensor in-place using `.data =`,\u001b[39;00m\n\u001b[0;32m   (...)\u001b[0m\n\u001b[1;32m    807\u001b[0m             \u001b[38;5;66;03m# global flag to let the user control whether they want the future\u001b[39;00m\n\u001b[1;32m    808\u001b[0m             \u001b[38;5;66;03m# behavior of overwriting the existing tensor or not.\u001b[39;00m\n",
      "File \u001b[0;32m~/.pyenv/versions/3.11.10/envs/env_raft/lib/python3.11/site-packages/torch/nn/modules/module.py:797\u001b[0m, in \u001b[0;36mModule._apply\u001b[0;34m(self, fn)\u001b[0m\n\u001b[1;32m    795\u001b[0m \u001b[38;5;28;01mdef\u001b[39;00m\u001b[38;5;250m \u001b[39m\u001b[38;5;21m_apply\u001b[39m(\u001b[38;5;28mself\u001b[39m, fn):\n\u001b[1;32m    796\u001b[0m     \u001b[38;5;28;01mfor\u001b[39;00m module \u001b[38;5;129;01min\u001b[39;00m \u001b[38;5;28mself\u001b[39m\u001b[38;5;241m.\u001b[39mchildren():\n\u001b[0;32m--> 797\u001b[0m         \u001b[43mmodule\u001b[49m\u001b[38;5;241;43m.\u001b[39;49m\u001b[43m_apply\u001b[49m\u001b[43m(\u001b[49m\u001b[43mfn\u001b[49m\u001b[43m)\u001b[49m\n\u001b[1;32m    799\u001b[0m     \u001b[38;5;28;01mdef\u001b[39;00m\u001b[38;5;250m \u001b[39m\u001b[38;5;21mcompute_should_use_set_data\u001b[39m(tensor, tensor_applied):\n\u001b[1;32m    800\u001b[0m         \u001b[38;5;28;01mif\u001b[39;00m torch\u001b[38;5;241m.\u001b[39m_has_compatible_shallow_copy_type(tensor, tensor_applied):\n\u001b[1;32m    801\u001b[0m             \u001b[38;5;66;03m# If the new tensor has compatible tensor type as the existing tensor,\u001b[39;00m\n\u001b[1;32m    802\u001b[0m             \u001b[38;5;66;03m# the current behavior is to change the tensor in-place using `.data =`,\u001b[39;00m\n\u001b[0;32m   (...)\u001b[0m\n\u001b[1;32m    807\u001b[0m             \u001b[38;5;66;03m# global flag to let the user control whether they want the future\u001b[39;00m\n\u001b[1;32m    808\u001b[0m             \u001b[38;5;66;03m# behavior of overwriting the existing tensor or not.\u001b[39;00m\n",
      "File \u001b[0;32m~/.pyenv/versions/3.11.10/envs/env_raft/lib/python3.11/site-packages/torch/nn/modules/module.py:797\u001b[0m, in \u001b[0;36mModule._apply\u001b[0;34m(self, fn)\u001b[0m\n\u001b[1;32m    795\u001b[0m \u001b[38;5;28;01mdef\u001b[39;00m\u001b[38;5;250m \u001b[39m\u001b[38;5;21m_apply\u001b[39m(\u001b[38;5;28mself\u001b[39m, fn):\n\u001b[1;32m    796\u001b[0m     \u001b[38;5;28;01mfor\u001b[39;00m module \u001b[38;5;129;01min\u001b[39;00m \u001b[38;5;28mself\u001b[39m\u001b[38;5;241m.\u001b[39mchildren():\n\u001b[0;32m--> 797\u001b[0m         \u001b[43mmodule\u001b[49m\u001b[38;5;241;43m.\u001b[39;49m\u001b[43m_apply\u001b[49m\u001b[43m(\u001b[49m\u001b[43mfn\u001b[49m\u001b[43m)\u001b[49m\n\u001b[1;32m    799\u001b[0m     \u001b[38;5;28;01mdef\u001b[39;00m\u001b[38;5;250m \u001b[39m\u001b[38;5;21mcompute_should_use_set_data\u001b[39m(tensor, tensor_applied):\n\u001b[1;32m    800\u001b[0m         \u001b[38;5;28;01mif\u001b[39;00m torch\u001b[38;5;241m.\u001b[39m_has_compatible_shallow_copy_type(tensor, tensor_applied):\n\u001b[1;32m    801\u001b[0m             \u001b[38;5;66;03m# If the new tensor has compatible tensor type as the existing tensor,\u001b[39;00m\n\u001b[1;32m    802\u001b[0m             \u001b[38;5;66;03m# the current behavior is to change the tensor in-place using `.data =`,\u001b[39;00m\n\u001b[0;32m   (...)\u001b[0m\n\u001b[1;32m    807\u001b[0m             \u001b[38;5;66;03m# global flag to let the user control whether they want the future\u001b[39;00m\n\u001b[1;32m    808\u001b[0m             \u001b[38;5;66;03m# behavior of overwriting the existing tensor or not.\u001b[39;00m\n",
      "File \u001b[0;32m~/.pyenv/versions/3.11.10/envs/env_raft/lib/python3.11/site-packages/torch/nn/modules/module.py:820\u001b[0m, in \u001b[0;36mModule._apply\u001b[0;34m(self, fn)\u001b[0m\n\u001b[1;32m    816\u001b[0m \u001b[38;5;66;03m# Tensors stored in modules are graph leaves, and we don't want to\u001b[39;00m\n\u001b[1;32m    817\u001b[0m \u001b[38;5;66;03m# track autograd history of `param_applied`, so we have to use\u001b[39;00m\n\u001b[1;32m    818\u001b[0m \u001b[38;5;66;03m# `with torch.no_grad():`\u001b[39;00m\n\u001b[1;32m    819\u001b[0m \u001b[38;5;28;01mwith\u001b[39;00m torch\u001b[38;5;241m.\u001b[39mno_grad():\n\u001b[0;32m--> 820\u001b[0m     param_applied \u001b[38;5;241m=\u001b[39m \u001b[43mfn\u001b[49m\u001b[43m(\u001b[49m\u001b[43mparam\u001b[49m\u001b[43m)\u001b[49m\n\u001b[1;32m    821\u001b[0m should_use_set_data \u001b[38;5;241m=\u001b[39m compute_should_use_set_data(param, param_applied)\n\u001b[1;32m    822\u001b[0m \u001b[38;5;28;01mif\u001b[39;00m should_use_set_data:\n",
      "File \u001b[0;32m~/.pyenv/versions/3.11.10/envs/env_raft/lib/python3.11/site-packages/torch/nn/modules/module.py:1143\u001b[0m, in \u001b[0;36mModule.to.<locals>.convert\u001b[0;34m(t)\u001b[0m\n\u001b[1;32m   1140\u001b[0m \u001b[38;5;28;01mif\u001b[39;00m convert_to_format \u001b[38;5;129;01mis\u001b[39;00m \u001b[38;5;129;01mnot\u001b[39;00m \u001b[38;5;28;01mNone\u001b[39;00m \u001b[38;5;129;01mand\u001b[39;00m t\u001b[38;5;241m.\u001b[39mdim() \u001b[38;5;129;01min\u001b[39;00m (\u001b[38;5;241m4\u001b[39m, \u001b[38;5;241m5\u001b[39m):\n\u001b[1;32m   1141\u001b[0m     \u001b[38;5;28;01mreturn\u001b[39;00m t\u001b[38;5;241m.\u001b[39mto(device, dtype \u001b[38;5;28;01mif\u001b[39;00m t\u001b[38;5;241m.\u001b[39mis_floating_point() \u001b[38;5;129;01mor\u001b[39;00m t\u001b[38;5;241m.\u001b[39mis_complex() \u001b[38;5;28;01melse\u001b[39;00m \u001b[38;5;28;01mNone\u001b[39;00m,\n\u001b[1;32m   1142\u001b[0m                 non_blocking, memory_format\u001b[38;5;241m=\u001b[39mconvert_to_format)\n\u001b[0;32m-> 1143\u001b[0m \u001b[38;5;28;01mreturn\u001b[39;00m \u001b[43mt\u001b[49m\u001b[38;5;241;43m.\u001b[39;49m\u001b[43mto\u001b[49m\u001b[43m(\u001b[49m\u001b[43mdevice\u001b[49m\u001b[43m,\u001b[49m\u001b[43m \u001b[49m\u001b[43mdtype\u001b[49m\u001b[43m \u001b[49m\u001b[38;5;28;43;01mif\u001b[39;49;00m\u001b[43m \u001b[49m\u001b[43mt\u001b[49m\u001b[38;5;241;43m.\u001b[39;49m\u001b[43mis_floating_point\u001b[49m\u001b[43m(\u001b[49m\u001b[43m)\u001b[49m\u001b[43m \u001b[49m\u001b[38;5;129;43;01mor\u001b[39;49;00m\u001b[43m \u001b[49m\u001b[43mt\u001b[49m\u001b[38;5;241;43m.\u001b[39;49m\u001b[43mis_complex\u001b[49m\u001b[43m(\u001b[49m\u001b[43m)\u001b[49m\u001b[43m \u001b[49m\u001b[38;5;28;43;01melse\u001b[39;49;00m\u001b[43m \u001b[49m\u001b[38;5;28;43;01mNone\u001b[39;49;00m\u001b[43m,\u001b[49m\u001b[43m \u001b[49m\u001b[43mnon_blocking\u001b[49m\u001b[43m)\u001b[49m\n",
      "\u001b[0;31mKeyboardInterrupt\u001b[0m: "
     ]
    }
   ],
   "source": [
    "import raft_local\n",
    "import sys\n",
    "import importlib\n",
    "importlib.reload(raft_local)\n",
    "\n",
    "# python3 raft_local.py --datapath sample_data/UC_Berkeley_short.pdf --output ./sample_ds4 --chunk_size 512 --questions 5 --doctype pdf --fast\n",
    "sys.argv = [\n",
    "    \"raft_local.py\",\n",
    "    \"--datapath\", \"../data/sample_data/UC_Berkeley_short.pdf\", \n",
    "    \"--output\", \"../data/sample_data/sample_ds4\", \n",
    "    \"--chunk_size\", \"512\", \n",
    "    \"--questions\", \"5\", \n",
    "    \"--doctype\", \"pdf\", \n",
    "    \"--fast\"\n",
    "]\n",
    "raft_local.main()"
   ]
  },
  {
   "cell_type": "code",
   "execution_count": 2,
   "metadata": {},
   "outputs": [
    {
     "name": "stderr",
     "output_type": "stream",
     "text": [
      "Generating train split: 150 examples [00:00, 11042.29 examples/s]"
     ]
    },
    {
     "name": "stdout",
     "output_type": "stream",
     "text": [
      "\u001b[32m2025-01-11 01:23:39\u001b[0m \u001b[1;30m INFO\u001b[0m [    ] \u001b[34mraft\u001b[0m Dataset has 150 rows\n",
      "\u001b[32m2025-01-11 01:23:39\u001b[0m \u001b[1;30m INFO\u001b[0m [    ] \u001b[34mraft\u001b[0m Converting arrow file ../data/sample_data/sample_ds4/data-00000-of-00001.arrow to jsonl completion file ../data/sample_data/sample_ds4/output.completion.jsonl\n"
     ]
    },
    {
     "name": "stderr",
     "output_type": "stream",
     "text": [
      "\n",
      "Filter out empty examples: 100%|██████████| 150/150 [00:00<00:00, 5593.90 examples/s]\n",
      "Rename fields and add <STOP> token: 100%|██████████| 150/150 [00:00<00:00, 17421.58 examples/s]\n",
      "Creating json from Arrow format: 100%|██████████| 1/1 [00:00<00:00, 60.66ba/s]\n"
     ]
    }
   ],
   "source": [
    "import format\n",
    "\n",
    "# python3 format.py --input output/data-00000-of-00001.arrow --output output.completion.jsonl --output-format completion\n",
    "sys.argv = [\n",
    "    \"format.py\",\n",
    "    \"--input\", \"../data/sample_data/sample_ds4/data-00000-of-00001.arrow\", \n",
    "    \"--output\", \"../data/sample_data/sample_ds4/output.completion.jsonl\", \n",
    "    \"--output-format\", \"completion\"\n",
    "]\n",
    "\n",
    "format.main()"
   ]
  },
  {
   "cell_type": "code",
   "execution_count": 20,
   "metadata": {},
   "outputs": [
    {
     "name": "stdout",
     "output_type": "stream",
     "text": [
      "dict_keys(['prompt', 'completion'])\n",
      "150\n"
     ]
    }
   ],
   "source": [
    "import json\n",
    "with open(\"../data/sample_data/sample_ds4/output.completion.jsonl\") as f:\n",
    "    data = [json.loads(line) for line in f]\n",
    "    \n",
    "print(data[0].keys())\n",
    "print(len(data))"
   ]
  },
  {
   "cell_type": "code",
   "execution_count": 21,
   "metadata": {},
   "outputs": [
    {
     "name": "stdout",
     "output_type": "stream",
     "text": [
      "<DOCUMENT>on STEM disciplines and\n",
      "fundraising.[59][60][61] In 2007, the Energy Biosciences Institute was established with funding from BP and\n",
      "Stanley Hall, a research facility and headqua rters for the California Institute for Quantitative Biosciences,\n",
      "opened. Suppor ted by a grant from alumnus James Simons, the Simons Institute for the Theory of\n",
      "Computing was established in 2012. In 2015, Berkeley and its sister campus, UCSF, established the\n",
      "Innova tive Genomics Institute to develop CRISPR gene editing, and, in 2020</DOCUMENT>\n",
      "<DOCUMENT>aw over the handling of sexual violence and harassment complaints\" by\n",
      "the White House Task Force to Protect Students from Sexual Assault.[74] Investigations\n",
      "continued into 2016, with hundreds of pages of records released in April 2016, showing a\n",
      "pattern of documented sexual harassment and firings of non-tenured staff.[75]\n",
      "On July 25, 2019, Berkeley was removed from the U.S. News Best Colleges Ranking for\n",
      "misreporting statistics. Berkeley had originally reported that its two-year average alumni\n",
      "giving rate f</DOCUMENT>\n",
      "<DOCUMENT>University of California,\n",
      "Berkeley\n",
      "Former names University of\n",
      "California\n",
      "(1868–1958)\n",
      "Motto Fiat lux (Latin)\n",
      "Motto\n",
      "in English\"Let there be\n",
      "light\"\n",
      "Type Public land-\n",
      "grant research\n",
      "university\n",
      "Established March 23,\n",
      "1868[1]\n",
      "Parent\n",
      "institutionUniversity of\n",
      "California\n",
      "Accreditation WSCUC\n",
      "Academic\n",
      "affiliationsAAU · APRU ·\n",
      "IARU · URA ·\n",
      "Space-grant\n",
      "Endowment $6.9 billion\n",
      "(2022)[2][3]\n",
      "Chancellor Carol T. Christ\n",
      "Provost Benjamin E.\n",
      "Hermalin[4]\n",
      "Total staff 23,524 (2020)[5]\n",
      "Students 45,307 (Fall\n",
      "2022)[6]\n",
      "Undergraduates32</DOCUMENT>\n",
      "<DOCUMENT>ed at\n",
      "Berkeley[39] and its School of Military Aeronautics began training\n",
      "pilots, including Jimmy Doolittle. In 1926, future Fleet Admiral\n",
      "Chester W. Nimitz established the first Naval ROTC unit at\n",
      "Berkeley.[40] Berkeley ROTC alumni include former Secretary of\n",
      "Defense Robert McNamara, Army Chief of Staff Frederick C.\n",
      "Weyand, sixteen other general officers, ten Navy flag officers, and\n",
      "AFROTC alumna Captain Theresa Claiborne.[41]\n",
      "In the 1930s , Ernest Orlando Lawrence helped establish the\n",
      "Radiation Laboratory </DOCUMENT>\n",
      "\"Let there be light\" Type Public land- grant research university Established March 23, 1868[1] Parent institutionUniversity of California Accreditation WSCUC Academic affiliationsAAU  APRU  IARU  URA  Space-grant Endowment\n"
     ]
    }
   ],
   "source": [
    "print(data[0][\"prompt\"])"
   ]
  },
  {
   "cell_type": "code",
   "execution_count": 19,
   "metadata": {},
   "outputs": [
    {
     "name": "stdout",
     "output_type": "stream",
     "text": [
      "University of California,\n",
      "Berkeley<STOP>\n"
     ]
    }
   ],
   "source": [
    "print(data[0][\"completion\"])"
   ]
  },
  {
   "cell_type": "code",
   "execution_count": 47,
   "metadata": {},
   "outputs": [
    {
     "name": "stdout",
     "output_type": "stream",
     "text": [
      "dict_keys(['id', 'type', 'question', 'context', 'oracle_context', 'cot_answer', 'instruction'])\n"
     ]
    }
   ],
   "source": [
    "from datasets import Dataset\n",
    "dataset = Dataset.from_file(\"../data/sample_data/sample_ds4/data-00000-of-00001.arrow\")\n",
    "\n",
    "print(dataset[0].keys())"
   ]
  },
  {
   "cell_type": "code",
   "execution_count": 48,
   "metadata": {},
   "outputs": [
    {
     "name": "stdout",
     "output_type": "stream",
     "text": [
      "seed_task_0\n",
      "general\n",
      "\"Let there be light\" Type Public land- grant research university Established March 23, 1868[1] Parent institutionUniversity of California Accreditation WSCUC Academic affiliationsAAU  APRU  IARU  URA  Space-grant Endowment\n"
     ]
    }
   ],
   "source": [
    "print(dataset[0][\"id\"])\n",
    "print(dataset[0][\"type\"])\n",
    "print(dataset[0][\"question\"])"
   ]
  },
  {
   "cell_type": "code",
   "execution_count": 33,
   "metadata": {},
   "outputs": [
    {
     "name": "stdout",
     "output_type": "stream",
     "text": [
      "University of California,\n",
      "Berkeley\n",
      "<DOCUMENT>on STEM disciplines and\n",
      "fundraising.[59][60][61] In 2007, the Energy Biosciences Institute was established with funding from BP and\n",
      "Stanley Hall, a research facility and headqua rters for the California Institute for Quantitative Biosciences,\n",
      "opened. Suppor ted by a grant from alumnus James Simons, the Simons Institute for the Theory of\n",
      "Computing was established in 2012. In 2015, Berkeley and its sister campus, UCSF, established the\n",
      "Innova tive Genomics Institute to develop CRISPR gene editing, and, in 2020</DOCUMENT>\n",
      "<DOCUMENT>aw over the handling of sexual violence and harassment complaints\" by\n",
      "the White House Task Force to Protect Students from Sexual Assault.[74] Investigations\n",
      "continued into 2016, with hundreds of pages of records released in April 2016, showing a\n",
      "pattern of documented sexual harassment and firings of non-tenured staff.[75]\n",
      "On July 25, 2019, Berkeley was removed from the U.S. News Best Colleges Ranking for\n",
      "misreporting statistics. Berkeley had originally reported that its two-year average alumni\n",
      "giving rate f</DOCUMENT>\n",
      "<DOCUMENT>University of California,\n",
      "Berkeley\n",
      "Former names University of\n",
      "California\n",
      "(1868–1958)\n",
      "Motto Fiat lux (Latin)\n",
      "Motto\n",
      "in English\"Let there be\n",
      "light\"\n",
      "Type Public land-\n",
      "grant research\n",
      "university\n",
      "Established March 23,\n",
      "1868[1]\n",
      "Parent\n",
      "institutionUniversity of\n",
      "California\n",
      "Accreditation WSCUC\n",
      "Academic\n",
      "affiliationsAAU · APRU ·\n",
      "IARU · URA ·\n",
      "Space-grant\n",
      "Endowment $6.9 billion\n",
      "(2022)[2][3]\n",
      "Chancellor Carol T. Christ\n",
      "Provost Benjamin E.\n",
      "Hermalin[4]\n",
      "Total staff 23,524 (2020)[5]\n",
      "Students 45,307 (Fall\n",
      "2022)[6]\n",
      "Undergraduates32</DOCUMENT>\n",
      "<DOCUMENT>ed at\n",
      "Berkeley[39] and its School of Military Aeronautics began training\n",
      "pilots, including Jimmy Doolittle. In 1926, future Fleet Admiral\n",
      "Chester W. Nimitz established the first Naval ROTC unit at\n",
      "Berkeley.[40] Berkeley ROTC alumni include former Secretary of\n",
      "Defense Robert McNamara, Army Chief of Staff Frederick C.\n",
      "Weyand, sixteen other general officers, ten Navy flag officers, and\n",
      "AFROTC alumna Captain Theresa Claiborne.[41]\n",
      "In the 1930s , Ernest Orlando Lawrence helped establish the\n",
      "Radiation Laboratory </DOCUMENT>\n",
      "\"Let there be light\" Type Public land- grant research university Established March 23, 1868[1] Parent institutionUniversity of California Accreditation WSCUC Academic affiliationsAAU  APRU  IARU  URA  Space-grant Endowment\n"
     ]
    }
   ],
   "source": [
    "print(dataset[0][\"cot_answer\"])\n",
    "print(dataset[0][\"instruction\"])"
   ]
  },
  {
   "cell_type": "code",
   "execution_count": 34,
   "metadata": {},
   "outputs": [
    {
     "name": "stdout",
     "output_type": "stream",
     "text": [
      "University of California,\n",
      "Berkeley\n",
      "Former names University of\n",
      "California\n",
      "(1868–1958)\n",
      "Motto Fiat lux (Latin)\n",
      "Motto\n",
      "in English\"Let there be\n",
      "light\"\n",
      "Type Public land-\n",
      "grant research\n",
      "university\n",
      "Established March 23,\n",
      "1868[1]\n",
      "Parent\n",
      "institutionUniversity of\n",
      "California\n",
      "Accreditation WSCUC\n",
      "Academic\n",
      "affiliationsAAU · APRU ·\n",
      "IARU · URA ·\n",
      "Space-grant\n",
      "Endowment $6.9 billion\n",
      "(2022)[2][3]\n",
      "Chancellor Carol T. Christ\n",
      "Provost Benjamin E.\n",
      "Hermalin[4]\n",
      "Total staff 23,524 (2020)[5]\n",
      "Students 45,307 (Fall\n",
      "2022)[6]\n",
      "Undergraduates32\n"
     ]
    }
   ],
   "source": [
    "print(dataset[0][\"oracle_context\"])"
   ]
  },
  {
   "cell_type": "code",
   "execution_count": 36,
   "metadata": {},
   "outputs": [
    {
     "name": "stdout",
     "output_type": "stream",
     "text": [
      "dict_keys(['sentences', 'title'])\n"
     ]
    }
   ],
   "source": [
    "print(dataset[0][\"context\"].keys())"
   ]
  },
  {
   "cell_type": "code",
   "execution_count": 38,
   "metadata": {},
   "outputs": [
    {
     "name": "stdout",
     "output_type": "stream",
     "text": [
      "on STEM disciplines and\n",
      "fundraising.[59][60][61] In 2007, the Energy Biosciences Institute was established with funding from BP and\n",
      "Stanley Hall, a research facility and headqua rters for the California Institute for Quantitative Biosciences,\n",
      "opened. Suppor ted by a grant from alumnus James Simons, the Simons Institute for the Theory of\n",
      "Computing was established in 2012. In 2015, Berkeley and its sister campus, UCSF, established the\n",
      "Innova tive Genomics Institute to develop CRISPR gene editing, and, in 2020\n",
      "aw over the handling of sexual violence and harassment complaints\" by\n",
      "the White House Task Force to Protect Students from Sexual Assault.[74] Investigations\n",
      "continued into 2016, with hundreds of pages of records released in April 2016, showing a\n",
      "pattern of documented sexual harassment and firings of non-tenured staff.[75]\n",
      "On July 25, 2019, Berkeley was removed from the U.S. News Best Colleges Ranking for\n",
      "misreporting statistics. Berkeley had originally reported that its two-year average alumni\n",
      "giving rate f\n",
      "University of California,\n",
      "Berkeley\n",
      "Former names University of\n",
      "California\n",
      "(1868–1958)\n",
      "Motto Fiat lux (Latin)\n",
      "Motto\n",
      "in English\"Let there be\n",
      "light\"\n",
      "Type Public land-\n",
      "grant research\n",
      "university\n",
      "Established March 23,\n",
      "1868[1]\n",
      "Parent\n",
      "institutionUniversity of\n",
      "California\n",
      "Accreditation WSCUC\n",
      "Academic\n",
      "affiliationsAAU · APRU ·\n",
      "IARU · URA ·\n",
      "Space-grant\n",
      "Endowment $6.9 billion\n",
      "(2022)[2][3]\n",
      "Chancellor Carol T. Christ\n",
      "Provost Benjamin E.\n",
      "Hermalin[4]\n",
      "Total staff 23,524 (2020)[5]\n",
      "Students 45,307 (Fall\n",
      "2022)[6]\n",
      "Undergraduates32\n",
      "ed at\n",
      "Berkeley[39] and its School of Military Aeronautics began training\n",
      "pilots, including Jimmy Doolittle. In 1926, future Fleet Admiral\n",
      "Chester W. Nimitz established the first Naval ROTC unit at\n",
      "Berkeley.[40] Berkeley ROTC alumni include former Secretary of\n",
      "Defense Robert McNamara, Army Chief of Staff Frederick C.\n",
      "Weyand, sixteen other general officers, ten Navy flag officers, and\n",
      "AFROTC alumna Captain Theresa Claiborne.[41]\n",
      "In the 1930s , Ernest Orlando Lawrence helped establish the\n",
      "Radiation Laboratory \n"
     ]
    }
   ],
   "source": [
    "for sent in dataset[0][\"context\"][\"sentences\"]:\n",
    "    print(sent)"
   ]
  },
  {
   "cell_type": "code",
   "execution_count": 39,
   "metadata": {},
   "outputs": [
    {
     "name": "stdout",
     "output_type": "stream",
     "text": [
      "['placeholder_title', 'placeholder_title', 'placeholder_title', 'placeholder_title']\n"
     ]
    }
   ],
   "source": [
    "print(dataset[0][\"context\"][\"title\"])"
   ]
  },
  {
   "cell_type": "code",
   "execution_count": 42,
   "metadata": {},
   "outputs": [
    {
     "name": "stdout",
     "output_type": "stream",
     "text": [
      "\"Let there be light\" Type Public land- grant research university Established March 23, 1868[1] Parent institutionUniversity of California Accreditation WSCUC Academic affiliationsAAU  APRU  IARU  URA  Space-grant Endowment\n",
      "English\"Let there be light\" Type Public land- grant research university Established March 23, 1868[1] Parent institutionUniversity of California Accreditation WSCUC Academic affiliationsAAU  APRU  IARU  URA  Space-grant Endow\n",
      "in English\"Let there be light\" Type Public land- grant research university Established March 23, 1868[1] Parent institutionUniversity of California Accreditation WSCUC Academic affiliationsAAU  APRU  IARU  URA  Space-grant End\n",
      "in English \"Let there be light\" Type Public land- grant research university Established March 23, 1868[1] Parent institutionUniversity of California Accreditation WSCUC Academic affiliationsAAU  APRU  IARU  URA  Space-grant End\n",
      " APRU  IARU  URA  Space-grant Endowment $6,9 billion (2022)[2][3] Chancellor Carol T. Christ Provost Benjamin E. Hermalin[4] Total staff 23,524 (2020)\n",
      "ng campus of the University of California system.,479 (Fall 2022)[6]University of California, Berkeley The University of California, Berkeley (UC Berkeley, Berkeley, Cal, or California),[11][12] is a public land-grant research university\n",
      "ng campus of the University of California system.,479 (Fall 2022)[6]University of California, Berkeley The university of California, Berkeley (UC Berkeley, Berkeley, Cal, or California),[11][12] is a public land-grant research university\n",
      "ng campus of the University of California system.,479 (Fall 2022)[6]University of California, Berkeley The University of California, Berkeley (UC Berkeley, Berkeley, Cal, or California),[11][12] is a public land-grant research\n",
      "ng,479 (Fall 2022)[6]University of California, Berkeley The University of California, Berkeley (UC Berkeley, Berkeley, Cal, or California),[11][12] is a public land-grant research university in Berkeley, California. it\n",
      "ng,479 (Fall 2022)[6]University of California, Berkeley The University of California, Berkeley (UC Berkeley, Berkeley, Cal, or California),[11][12] is a public land-grant research university in Berkeley, California. Berkeley\n"
     ]
    }
   ],
   "source": [
    "for i in range(10):\n",
    "    print(dataset[i][\"question\"])"
   ]
  }
 ],
 "metadata": {
  "kernelspec": {
   "display_name": "env_raft",
   "language": "python",
   "name": "python3"
  },
  "language_info": {
   "codemirror_mode": {
    "name": "ipython",
    "version": 3
   },
   "file_extension": ".py",
   "mimetype": "text/x-python",
   "name": "python",
   "nbconvert_exporter": "python",
   "pygments_lexer": "ipython3",
   "version": "3.11.10"
  }
 },
 "nbformat": 4,
 "nbformat_minor": 2
}
