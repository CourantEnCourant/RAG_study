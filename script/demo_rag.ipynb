{
 "cells": [
  {
   "cell_type": "code",
   "execution_count": null,
   "metadata": {},
   "outputs": [
    {
     "name": "stderr",
     "output_type": "stream",
     "text": [
      "/Users/shen/.pyenv/versions/3.11.10/envs/env_raft/lib/python3.11/site-packages/tqdm/auto.py:21: TqdmWarning: IProgress not found. Please update jupyter and ipywidgets. See https://ipywidgets.readthedocs.io/en/stable/user_install.html\n",
      "  from .autonotebook import tqdm as notebook_tqdm\n",
      "INFO:huggingface_script:Retrieving chunks from ../data/sample_data/UC_Berkeley_short.pdf of type pdf\n",
      "INFO:huggingface_script:Splitting text into 30 chunks.\n",
      "INFO:huggingface_script:Adding chunk 0/30\n",
      "/Users/shen/.pyenv/versions/3.11.10/envs/env_raft/lib/python3.11/site-packages/huggingface_hub/file_download.py:795: FutureWarning: `resume_download` is deprecated and will be removed in version 1.0.0. Downloads always resume when possible. If you want to force a new download, use `force_download=True`.\n",
      "  warnings.warn(\n",
      "/Users/shen/.pyenv/versions/3.11.10/envs/env_raft/lib/python3.11/site-packages/huggingface_hub/file_download.py:795: FutureWarning: `resume_download` is deprecated and will be removed in version 1.0.0. Downloads always resume when possible. If you want to force a new download, use `force_download=True`.\n",
      "  warnings.warn(\n",
      "INFO:huggingface_script:Adding chunk 1/30\n",
      "INFO:huggingface_script:Adding chunk 2/30\n",
      "INFO:huggingface_script:Adding chunk 3/30\n",
      "INFO:huggingface_script:Adding chunk 4/30\n",
      "INFO:huggingface_script:Adding chunk 5/30\n",
      "INFO:huggingface_script:Adding chunk 6/30\n",
      "INFO:huggingface_script:Adding chunk 7/30\n",
      "INFO:huggingface_script:Adding chunk 8/30\n",
      "INFO:huggingface_script:Adding chunk 9/30\n",
      "INFO:huggingface_script:Adding chunk 10/30\n",
      "INFO:huggingface_script:Adding chunk 11/30\n",
      "INFO:huggingface_script:Adding chunk 12/30\n",
      "INFO:huggingface_script:Adding chunk 13/30\n",
      "INFO:huggingface_script:Adding chunk 14/30\n",
      "INFO:huggingface_script:Adding chunk 15/30\n",
      "INFO:huggingface_script:Adding chunk 16/30\n",
      "INFO:huggingface_script:Adding chunk 17/30\n",
      "INFO:huggingface_script:Adding chunk 18/30\n",
      "INFO:huggingface_script:Adding chunk 19/30\n",
      "INFO:huggingface_script:Adding chunk 20/30\n",
      "INFO:huggingface_script:Adding chunk 21/30\n",
      "INFO:huggingface_script:Adding chunk 22/30\n",
      "INFO:huggingface_script:Adding chunk 23/30\n",
      "INFO:huggingface_script:Adding chunk 24/30\n",
      "INFO:huggingface_script:Adding chunk 25/30\n",
      "INFO:huggingface_script:Adding chunk 26/30\n",
      "INFO:huggingface_script:Adding chunk 27/30\n",
      "INFO:huggingface_script:Adding chunk 28/30\n",
      "INFO:huggingface_script:Adding chunk 29/30\n",
      "Saving the dataset (1/1 shards): 100%|██████████| 150/150 [00:00<00:00, 15608.45 examples/s]\n",
      "INFO:huggingface_script:Converting dataset to the desired format...\n"
     ]
    }
   ],
   "source": [
    "import raft_local\n",
    "import sys\n",
    "\n",
    "# python3 raft_local.py --datapath sample_data/UC_Berkeley_short.pdf --output ./sample_ds4 --chunk_size 512 --questions 5 --doctype pdf --fast\n",
    "sys.argv = [\n",
    "    \"raft_local.py\",\n",
    "    \"--datapath\", \"../data/sample_data/UC_Berkeley_short.pdf\", \n",
    "    \"--output\", \"../data/sample_data/sample_ds4\", \n",
    "    \"--chunk_size\", \"512\", \n",
    "    \"--questions\", \"5\", \n",
    "    \"--doctype\", \"pdf\", \n",
    "    \"--fast\"\n",
    "]\n",
    "raft_local.main()"
   ]
  },
  {
   "cell_type": "code",
   "execution_count": null,
   "metadata": {},
   "outputs": [],
   "source": [
    "import format\n",
    "\n",
    "# python3 format.py --input output/data-00000-of-00001.arrow --output output.completion.jsonl --output-format completion\n",
    "sys.argv = [\n",
    "    \"format.py\",\n",
    "    \"--input\", \"../data/sample_data/sample_ds4/data-00000-of-00001.arrow\", \n",
    "    \"--output\", \"../data/sample_data/sample_ds4/output.completion.jsonl\", \n",
    "    \"--output-format\", \"completion\"\n",
    "]\n",
    "\n",
    "format.main()"
   ]
  }
 ],
 "metadata": {
  "kernelspec": {
   "display_name": "env_raft",
   "language": "python",
   "name": "python3"
  },
  "language_info": {
   "codemirror_mode": {
    "name": "ipython",
    "version": 3
   },
   "file_extension": ".py",
   "mimetype": "text/x-python",
   "name": "python",
   "nbconvert_exporter": "python",
   "pygments_lexer": "ipython3",
   "version": "3.11.10"
  }
 },
 "nbformat": 4,
 "nbformat_minor": 2
}
