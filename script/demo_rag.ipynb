{
 "cells": [
  {
   "cell_type": "markdown",
   "metadata": {},
   "source": [
    "https://huggingface.co/google/flan-t5-large"
   ]
  },
  {
   "cell_type": "code",
   "execution_count": 2,
   "metadata": {},
   "outputs": [
    {
     "name": "stderr",
     "output_type": "stream",
     "text": [
      "INFO:huggingface_script:Starting the Hugging Face processing script...\n",
      "INFO:huggingface_script:Retrieving chunks from ../data/sample_data/UC_Berkeley_short.pdf of type pdf\n",
      "INFO:huggingface_script:Splitting text into 30 chunks.\n",
      "INFO:huggingface_script:Adding chunk 0/30\n"
     ]
    },
    {
     "name": "stdout",
     "output_type": "stream",
     "text": [
      "['What is the motto of the University of California, Berkeley?', 'What is the motto of the University of California?', 'What is the motto of the University of California in Berkeley?', 'What was the former name of the University of California?', 'What was the motto of the University of California?']\n"
     ]
    },
    {
     "name": "stderr",
     "output_type": "stream",
     "text": [
      "Special tokens have been added in the vocabulary, make sure the associated word embeddings are fine-tuned or trained.\n"
     ]
    },
    {
     "data": {
      "application/vnd.jupyter.widget-view+json": {
       "model_id": "4685b2a9e9bc45ce9bcba0f19b5439f5",
       "version_major": 2,
       "version_minor": 0
      },
      "text/plain": [
       "model.safetensors.index.json:   0%|          | 0.00/25.1k [00:00<?, ?B/s]"
      ]
     },
     "metadata": {},
     "output_type": "display_data"
    },
    {
     "data": {
      "application/vnd.jupyter.widget-view+json": {
       "model_id": "7ea919227cf54bf9a771a22d88deaeec",
       "version_major": 2,
       "version_minor": 0
      },
      "text/plain": [
       "Downloading shards:   0%|          | 0/4 [00:00<?, ?it/s]"
      ]
     },
     "metadata": {},
     "output_type": "display_data"
    },
    {
     "data": {
      "application/vnd.jupyter.widget-view+json": {
       "model_id": "7d7410d5bea747fbb5789d875bab34c4",
       "version_major": 2,
       "version_minor": 0
      },
      "text/plain": [
       "model-00001-of-00004.safetensors:   0%|          | 0.00/4.98G [00:00<?, ?B/s]"
      ]
     },
     "metadata": {},
     "output_type": "display_data"
    },
    {
     "name": "stderr",
     "output_type": "stream",
     "text": [
      "Error while downloading from https://cdn-lfs-us-1.hf.co/repos/a9/97/a99776322b9f88d8591fc816a7365182a754dc70f540dedd7f248602d538b56d/ddd749cd09fba8b9650f5a74d3d99bdcd54cf11bd4745b443373a30c53f18cd4?response-content-disposition=inline%3B+filename*%3DUTF-8%27%27model-00001-of-00004.safetensors%3B+filename%3D%22model-00001-of-00004.safetensors%22%3B&Expires=1737805509&Policy=eyJTdGF0ZW1lbnQiOlt7IkNvbmRpdGlvbiI6eyJEYXRlTGVzc1RoYW4iOnsiQVdTOkVwb2NoVGltZSI6MTczNzgwNTUwOX19LCJSZXNvdXJjZSI6Imh0dHBzOi8vY2RuLWxmcy11cy0xLmhmLmNvL3JlcG9zL2E5Lzk3L2E5OTc3NjMyMmI5Zjg4ZDg1OTFmYzgxNmE3MzY1MTgyYTc1NGRjNzBmNTQwZGVkZDdmMjQ4NjAyZDUzOGI1NmQvZGRkNzQ5Y2QwOWZiYThiOTY1MGY1YTc0ZDNkOTliZGNkNTRjZjExYmQ0NzQ1YjQ0MzM3M2EzMGM1M2YxOGNkND9yZXNwb25zZS1jb250ZW50LWRpc3Bvc2l0aW9uPSoifV19&Signature=n1uqR4KbJBQoLQMGx-RUUxrocVP78rVVsh%7EBw0eiy6dGoBc0Bs59dNRUZBVLmgkf7jNfnbeG-uty7xhITBMPWvzyJlNhE2Txwq0BgzR3hCtpiGOGFlKzEBItwkoyL7kNQdyTxhCAN6sLzwEAaVB-HTFyAHVzrbF5TYSRXoT6CTE4FxbfJWm-G06qGzw4UNHGARPcpUO3oiuxw8LKCtGzZyM3p27aQR7Zp6KynhXkh%7ERmdQ5GX5es2MfDQ8lCigDRDyjjiXPU08X5tkBsJKO9HCmlfajIgRaQCxPuaVSaxmTAM-qpq68iO2V4936jZLjhBhoOxGj8dqEy3pvVfYRD8A__&Key-Pair-Id=K24J24Z295AEI9: HTTPSConnectionPool(host='cdn-lfs-us-1.hf.co', port=443): Read timed out.\n",
      "Trying to resume download...\n",
      "WARNING:huggingface_hub.file_download:Error while downloading from https://cdn-lfs-us-1.hf.co/repos/a9/97/a99776322b9f88d8591fc816a7365182a754dc70f540dedd7f248602d538b56d/ddd749cd09fba8b9650f5a74d3d99bdcd54cf11bd4745b443373a30c53f18cd4?response-content-disposition=inline%3B+filename*%3DUTF-8%27%27model-00001-of-00004.safetensors%3B+filename%3D%22model-00001-of-00004.safetensors%22%3B&Expires=1737805509&Policy=eyJTdGF0ZW1lbnQiOlt7IkNvbmRpdGlvbiI6eyJEYXRlTGVzc1RoYW4iOnsiQVdTOkVwb2NoVGltZSI6MTczNzgwNTUwOX19LCJSZXNvdXJjZSI6Imh0dHBzOi8vY2RuLWxmcy11cy0xLmhmLmNvL3JlcG9zL2E5Lzk3L2E5OTc3NjMyMmI5Zjg4ZDg1OTFmYzgxNmE3MzY1MTgyYTc1NGRjNzBmNTQwZGVkZDdmMjQ4NjAyZDUzOGI1NmQvZGRkNzQ5Y2QwOWZiYThiOTY1MGY1YTc0ZDNkOTliZGNkNTRjZjExYmQ0NzQ1YjQ0MzM3M2EzMGM1M2YxOGNkND9yZXNwb25zZS1jb250ZW50LWRpc3Bvc2l0aW9uPSoifV19&Signature=n1uqR4KbJBQoLQMGx-RUUxrocVP78rVVsh%7EBw0eiy6dGoBc0Bs59dNRUZBVLmgkf7jNfnbeG-uty7xhITBMPWvzyJlNhE2Txwq0BgzR3hCtpiGOGFlKzEBItwkoyL7kNQdyTxhCAN6sLzwEAaVB-HTFyAHVzrbF5TYSRXoT6CTE4FxbfJWm-G06qGzw4UNHGARPcpUO3oiuxw8LKCtGzZyM3p27aQR7Zp6KynhXkh%7ERmdQ5GX5es2MfDQ8lCigDRDyjjiXPU08X5tkBsJKO9HCmlfajIgRaQCxPuaVSaxmTAM-qpq68iO2V4936jZLjhBhoOxGj8dqEy3pvVfYRD8A__&Key-Pair-Id=K24J24Z295AEI9: HTTPSConnectionPool(host='cdn-lfs-us-1.hf.co', port=443): Read timed out.\n",
      "Trying to resume download...\n"
     ]
    },
    {
     "data": {
      "application/vnd.jupyter.widget-view+json": {
       "model_id": "3e9e77d35d004894842d1f04657f2ad5",
       "version_major": 2,
       "version_minor": 0
      },
      "text/plain": [
       "model-00001-of-00004.safetensors:  17%|#7        | 849M/4.98G [00:00<?, ?B/s]"
      ]
     },
     "metadata": {},
     "output_type": "display_data"
    },
    {
     "data": {
      "application/vnd.jupyter.widget-view+json": {
       "model_id": "933a6928174c4209b961927b9ac6d2d6",
       "version_major": 2,
       "version_minor": 0
      },
      "text/plain": [
       "model-00002-of-00004.safetensors:   0%|          | 0.00/5.00G [00:00<?, ?B/s]"
      ]
     },
     "metadata": {},
     "output_type": "display_data"
    },
    {
     "data": {
      "application/vnd.jupyter.widget-view+json": {
       "model_id": "59ea700a23b745a8a6f1a7e45f972665",
       "version_major": 2,
       "version_minor": 0
      },
      "text/plain": [
       "model-00003-of-00004.safetensors:   0%|          | 0.00/4.92G [00:00<?, ?B/s]"
      ]
     },
     "metadata": {},
     "output_type": "display_data"
    },
    {
     "data": {
      "application/vnd.jupyter.widget-view+json": {
       "model_id": "a8078c8e5bc44853b14ffa1f97e47272",
       "version_major": 2,
       "version_minor": 0
      },
      "text/plain": [
       "model-00004-of-00004.safetensors:   0%|          | 0.00/1.17G [00:00<?, ?B/s]"
      ]
     },
     "metadata": {},
     "output_type": "display_data"
    },
    {
     "data": {
      "application/vnd.jupyter.widget-view+json": {
       "model_id": "ffc41a014c604ce5a7ac9e4f3df391a5",
       "version_major": 2,
       "version_minor": 0
      },
      "text/plain": [
       "Loading checkpoint shards:   0%|          | 0/4 [00:00<?, ?it/s]"
      ]
     },
     "metadata": {},
     "output_type": "display_data"
    },
    {
     "ename": "",
     "evalue": "",
     "output_type": "error",
     "traceback": [
      "\u001b[1;31mThe Kernel crashed while executing code in the current cell or a previous cell. \n",
      "\u001b[1;31mPlease review the code in the cell(s) to identify a possible cause of the failure. \n",
      "\u001b[1;31mClick <a href='https://aka.ms/vscodeJupyterKernelCrash'>here</a> for more info. \n",
      "\u001b[1;31mView Jupyter <a href='command:jupyter.viewOutput'>log</a> for further details."
     ]
    }
   ],
   "source": [
    "import raft_local\n",
    "import sys\n",
    "import importlib\n",
    "importlib.reload(raft_local)\n",
    "\n",
    "# python3 raft_local.py --datapath sample_data/UC_Berkeley_short.pdf --output ./sample_ds4 --chunk_size 512 --questions 5 --doctype pdf --fast\n",
    "sys.argv = [\n",
    "    \"raft_local.py\",\n",
    "    \"--datapath\", \"../data/sample_data/UC_Berkeley_short.pdf\", \n",
    "    \"--output\", \"../data/sample_data/sample_ds4\", \n",
    "    \"--chunk_size\", \"512\", \n",
    "    \"--questions\", \"5\", \n",
    "    \"--doctype\", \"pdf\", \n",
    "    \"--fast\"\n",
    "]\n",
    "raft_local.main()"
   ]
  },
  {
   "cell_type": "code",
   "execution_count": 2,
   "metadata": {},
   "outputs": [
    {
     "name": "stderr",
     "output_type": "stream",
     "text": [
      "Generating train split: 150 examples [00:00, 11042.29 examples/s]"
     ]
    },
    {
     "name": "stdout",
     "output_type": "stream",
     "text": [
      "\u001b[32m2025-01-11 01:23:39\u001b[0m \u001b[1;30m INFO\u001b[0m [    ] \u001b[34mraft\u001b[0m Dataset has 150 rows\n",
      "\u001b[32m2025-01-11 01:23:39\u001b[0m \u001b[1;30m INFO\u001b[0m [    ] \u001b[34mraft\u001b[0m Converting arrow file ../data/sample_data/sample_ds4/data-00000-of-00001.arrow to jsonl completion file ../data/sample_data/sample_ds4/output.completion.jsonl\n"
     ]
    },
    {
     "name": "stderr",
     "output_type": "stream",
     "text": [
      "\n",
      "Filter out empty examples: 100%|██████████| 150/150 [00:00<00:00, 5593.90 examples/s]\n",
      "Rename fields and add <STOP> token: 100%|██████████| 150/150 [00:00<00:00, 17421.58 examples/s]\n",
      "Creating json from Arrow format: 100%|██████████| 1/1 [00:00<00:00, 60.66ba/s]\n"
     ]
    }
   ],
   "source": [
    "import format\n",
    "\n",
    "# python3 format.py --input output/data-00000-of-00001.arrow --output output.completion.jsonl --output-format completion\n",
    "sys.argv = [\n",
    "    \"format.py\",\n",
    "    \"--input\", \"../data/sample_data/sample_ds4/data-00000-of-00001.arrow\", \n",
    "    \"--output\", \"../data/sample_data/sample_ds4/output.completion.jsonl\", \n",
    "    \"--output-format\", \"completion\"\n",
    "]\n",
    "\n",
    "format.main()"
   ]
  },
  {
   "cell_type": "code",
   "execution_count": 20,
   "metadata": {},
   "outputs": [
    {
     "name": "stdout",
     "output_type": "stream",
     "text": [
      "dict_keys(['prompt', 'completion'])\n",
      "150\n"
     ]
    }
   ],
   "source": [
    "import json\n",
    "with open(\"../data/sample_data/sample_ds4/output.completion.jsonl\") as f:\n",
    "    data = [json.loads(line) for line in f]\n",
    "    \n",
    "print(data[0].keys())\n",
    "print(len(data))"
   ]
  },
  {
   "cell_type": "code",
   "execution_count": 21,
   "metadata": {},
   "outputs": [
    {
     "name": "stdout",
     "output_type": "stream",
     "text": [
      "<DOCUMENT>on STEM disciplines and\n",
      "fundraising.[59][60][61] In 2007, the Energy Biosciences Institute was established with funding from BP and\n",
      "Stanley Hall, a research facility and headqua rters for the California Institute for Quantitative Biosciences,\n",
      "opened. Suppor ted by a grant from alumnus James Simons, the Simons Institute for the Theory of\n",
      "Computing was established in 2012. In 2015, Berkeley and its sister campus, UCSF, established the\n",
      "Innova tive Genomics Institute to develop CRISPR gene editing, and, in 2020</DOCUMENT>\n",
      "<DOCUMENT>aw over the handling of sexual violence and harassment complaints\" by\n",
      "the White House Task Force to Protect Students from Sexual Assault.[74] Investigations\n",
      "continued into 2016, with hundreds of pages of records released in April 2016, showing a\n",
      "pattern of documented sexual harassment and firings of non-tenured staff.[75]\n",
      "On July 25, 2019, Berkeley was removed from the U.S. News Best Colleges Ranking for\n",
      "misreporting statistics. Berkeley had originally reported that its two-year average alumni\n",
      "giving rate f</DOCUMENT>\n",
      "<DOCUMENT>University of California,\n",
      "Berkeley\n",
      "Former names University of\n",
      "California\n",
      "(1868–1958)\n",
      "Motto Fiat lux (Latin)\n",
      "Motto\n",
      "in English\"Let there be\n",
      "light\"\n",
      "Type Public land-\n",
      "grant research\n",
      "university\n",
      "Established March 23,\n",
      "1868[1]\n",
      "Parent\n",
      "institutionUniversity of\n",
      "California\n",
      "Accreditation WSCUC\n",
      "Academic\n",
      "affiliationsAAU · APRU ·\n",
      "IARU · URA ·\n",
      "Space-grant\n",
      "Endowment $6.9 billion\n",
      "(2022)[2][3]\n",
      "Chancellor Carol T. Christ\n",
      "Provost Benjamin E.\n",
      "Hermalin[4]\n",
      "Total staff 23,524 (2020)[5]\n",
      "Students 45,307 (Fall\n",
      "2022)[6]\n",
      "Undergraduates32</DOCUMENT>\n",
      "<DOCUMENT>ed at\n",
      "Berkeley[39] and its School of Military Aeronautics began training\n",
      "pilots, including Jimmy Doolittle. In 1926, future Fleet Admiral\n",
      "Chester W. Nimitz established the first Naval ROTC unit at\n",
      "Berkeley.[40] Berkeley ROTC alumni include former Secretary of\n",
      "Defense Robert McNamara, Army Chief of Staff Frederick C.\n",
      "Weyand, sixteen other general officers, ten Navy flag officers, and\n",
      "AFROTC alumna Captain Theresa Claiborne.[41]\n",
      "In the 1930s , Ernest Orlando Lawrence helped establish the\n",
      "Radiation Laboratory </DOCUMENT>\n",
      "\"Let there be light\" Type Public land- grant research university Established March 23, 1868[1] Parent institutionUniversity of California Accreditation WSCUC Academic affiliationsAAU  APRU  IARU  URA  Space-grant Endowment\n"
     ]
    }
   ],
   "source": [
    "print(data[0][\"prompt\"])"
   ]
  },
  {
   "cell_type": "code",
   "execution_count": 19,
   "metadata": {},
   "outputs": [
    {
     "name": "stdout",
     "output_type": "stream",
     "text": [
      "University of California,\n",
      "Berkeley<STOP>\n"
     ]
    }
   ],
   "source": [
    "print(data[0][\"completion\"])"
   ]
  },
  {
   "cell_type": "code",
   "execution_count": 4,
   "metadata": {},
   "outputs": [
    {
     "name": "stdout",
     "output_type": "stream",
     "text": [
      "dict_keys(['id', 'type', 'question', 'context', 'oracle_context', 'cot_answer', 'instruction'])\n"
     ]
    }
   ],
   "source": [
    "from datasets import Dataset\n",
    "dataset = Dataset.from_file(\"../data/sample_data/sample_ds4/data-00000-of-00001.arrow\")\n",
    "\n",
    "print(dataset[0].keys())"
   ]
  },
  {
   "cell_type": "code",
   "execution_count": 5,
   "metadata": {},
   "outputs": [
    {
     "name": "stdout",
     "output_type": "stream",
     "text": [
      "seed_task_0\n",
      "general\n",
      "What is the motto of the University of California, Berkeley?\n"
     ]
    }
   ],
   "source": [
    "print(dataset[0][\"id\"])\n",
    "print(dataset[0][\"type\"])\n",
    "print(dataset[0][\"question\"])"
   ]
  },
  {
   "cell_type": "code",
   "execution_count": 6,
   "metadata": {},
   "outputs": [
    {
     "name": "stdout",
     "output_type": "stream",
     "text": [
      "Motto Fiat lux\n",
      "<DOCUMENT>iven a\n",
      "chancellor, and Clark Kerr became Berkeley's first Chancellor,\n",
      "while  Robert Sproul remained in place as the President of the\n",
      "University of California.[47] Berkeley gained a worldwide\n",
      "reputation for political activism in the 1960s. In 1964, the Free\n",
      "Speech Movement organized student resistance to the university's\n",
      "restrictions on political activities on campus—most conspicuously, student activities related to the Civil\n",
      "Rights Movement.[48][49]\n",
      "The arrest in Sproul Plaza of Jack Weinberg, a recent Berk</DOCUMENT>\n",
      "<DOCUMENT>University of California,\n",
      "Berkeley\n",
      "Former names University of\n",
      "California\n",
      "(1868–1958)\n",
      "Motto Fiat lux (Latin)\n",
      "Motto\n",
      "in English\"Let there be\n",
      "light\"\n",
      "Type Public land-\n",
      "grant research\n",
      "university\n",
      "Established March 23,\n",
      "1868[1]\n",
      "Parent\n",
      "institutionUniversity of\n",
      "California\n",
      "Accreditation WSCUC\n",
      "Academic\n",
      "affiliationsAAU · APRU ·\n",
      "IARU · URA ·\n",
      "Space-grant\n",
      "Endowment $6.9 billion\n",
      "(2022)[2][3]\n",
      "Chancellor Carol T. Christ\n",
      "Provost Benjamin E.\n",
      "Hermalin[4]\n",
      "Total staff 23,524 (2020)[5]\n",
      "Students 45,307 (Fall\n",
      "2022)[6]\n",
      "Undergraduates32</DOCUMENT>\n",
      "<DOCUMENT> legislators released a proposal to change\n",
      "CEQA to exempt the university from its restrictions.[82] On March 14, Gavin Newsom signed\n",
      "the bill into law.[83] Berkeley has continued to face a housing shortage.[84]\n",
      "Officially named the \"University of California, Berkeley\" it is often shortened to \"Berkeley\" in general\n",
      "reference or in an academic context (Berkeley Law, Berkeley Engineering, Berkeley Haas, Berkeley Public\n",
      "Health) and to \"California\" or \"Cal\" particularly when referring to its athletic teams (Cali</DOCUMENT>\n",
      "<DOCUMENT>, an anonym ous donor21st centurypledged $252 million to help fund a new center for computing and data science. For the 2020 fiscal year,\n",
      "Berkeley set a fundraising record, receiving over $1 billion in gifts and pledges, and two years later, it broke\n",
      "that record, raising ove r $1.2 bi llion.[62][59][63][64]\n",
      "Various research ethics, human rights, and animal rights advocates have been in conflict\n",
      "with Berkeley. Native Americans contended with the school over repatriation of remains from\n",
      "the Phoebe A. Hearst M</DOCUMENT>\n",
      "What is the motto of the University of California, Berkeley?\n"
     ]
    }
   ],
   "source": [
    "print(dataset[0][\"cot_answer\"])\n",
    "print(dataset[0][\"instruction\"])"
   ]
  },
  {
   "cell_type": "code",
   "execution_count": 7,
   "metadata": {},
   "outputs": [
    {
     "name": "stdout",
     "output_type": "stream",
     "text": [
      "University of California,\n",
      "Berkeley\n",
      "Former names University of\n",
      "California\n",
      "(1868–1958)\n",
      "Motto Fiat lux (Latin)\n",
      "Motto\n",
      "in English\"Let there be\n",
      "light\"\n",
      "Type Public land-\n",
      "grant research\n",
      "university\n",
      "Established March 23,\n",
      "1868[1]\n",
      "Parent\n",
      "institutionUniversity of\n",
      "California\n",
      "Accreditation WSCUC\n",
      "Academic\n",
      "affiliationsAAU · APRU ·\n",
      "IARU · URA ·\n",
      "Space-grant\n",
      "Endowment $6.9 billion\n",
      "(2022)[2][3]\n",
      "Chancellor Carol T. Christ\n",
      "Provost Benjamin E.\n",
      "Hermalin[4]\n",
      "Total staff 23,524 (2020)[5]\n",
      "Students 45,307 (Fall\n",
      "2022)[6]\n",
      "Undergraduates32\n"
     ]
    }
   ],
   "source": [
    "print(dataset[0][\"oracle_context\"])"
   ]
  },
  {
   "cell_type": "code",
   "execution_count": 8,
   "metadata": {},
   "outputs": [
    {
     "name": "stdout",
     "output_type": "stream",
     "text": [
      "dict_keys(['sentences', 'title'])\n"
     ]
    }
   ],
   "source": [
    "print(dataset[0][\"context\"].keys())"
   ]
  },
  {
   "cell_type": "code",
   "execution_count": 9,
   "metadata": {},
   "outputs": [
    {
     "name": "stdout",
     "output_type": "stream",
     "text": [
      "iven a\n",
      "chancellor, and Clark Kerr became Berkeley's first Chancellor,\n",
      "while  Robert Sproul remained in place as the President of the\n",
      "University of California.[47] Berkeley gained a worldwide\n",
      "reputation for political activism in the 1960s. In 1964, the Free\n",
      "Speech Movement organized student resistance to the university's\n",
      "restrictions on political activities on campus—most conspicuously, student activities related to the Civil\n",
      "Rights Movement.[48][49]\n",
      "The arrest in Sproul Plaza of Jack Weinberg, a recent Berk\n",
      "University of California,\n",
      "Berkeley\n",
      "Former names University of\n",
      "California\n",
      "(1868–1958)\n",
      "Motto Fiat lux (Latin)\n",
      "Motto\n",
      "in English\"Let there be\n",
      "light\"\n",
      "Type Public land-\n",
      "grant research\n",
      "university\n",
      "Established March 23,\n",
      "1868[1]\n",
      "Parent\n",
      "institutionUniversity of\n",
      "California\n",
      "Accreditation WSCUC\n",
      "Academic\n",
      "affiliationsAAU · APRU ·\n",
      "IARU · URA ·\n",
      "Space-grant\n",
      "Endowment $6.9 billion\n",
      "(2022)[2][3]\n",
      "Chancellor Carol T. Christ\n",
      "Provost Benjamin E.\n",
      "Hermalin[4]\n",
      "Total staff 23,524 (2020)[5]\n",
      "Students 45,307 (Fall\n",
      "2022)[6]\n",
      "Undergraduates32\n",
      " legislators released a proposal to change\n",
      "CEQA to exempt the university from its restrictions.[82] On March 14, Gavin Newsom signed\n",
      "the bill into law.[83] Berkeley has continued to face a housing shortage.[84]\n",
      "Officially named the \"University of California, Berkeley\" it is often shortened to \"Berkeley\" in general\n",
      "reference or in an academic context (Berkeley Law, Berkeley Engineering, Berkeley Haas, Berkeley Public\n",
      "Health) and to \"California\" or \"Cal\" particularly when referring to its athletic teams (Cali\n",
      ", an anonym ous donor21st centurypledged $252 million to help fund a new center for computing and data science. For the 2020 fiscal year,\n",
      "Berkeley set a fundraising record, receiving over $1 billion in gifts and pledges, and two years later, it broke\n",
      "that record, raising ove r $1.2 bi llion.[62][59][63][64]\n",
      "Various research ethics, human rights, and animal rights advocates have been in conflict\n",
      "with Berkeley. Native Americans contended with the school over repatriation of remains from\n",
      "the Phoebe A. Hearst M\n"
     ]
    }
   ],
   "source": [
    "for sent in dataset[0][\"context\"][\"sentences\"]:\n",
    "    print(sent)"
   ]
  },
  {
   "cell_type": "code",
   "execution_count": 10,
   "metadata": {},
   "outputs": [
    {
     "name": "stdout",
     "output_type": "stream",
     "text": [
      "['placeholder_title', 'placeholder_title', 'placeholder_title', 'placeholder_title']\n"
     ]
    }
   ],
   "source": [
    "print(dataset[0][\"context\"][\"title\"])"
   ]
  },
  {
   "cell_type": "code",
   "execution_count": 14,
   "metadata": {},
   "outputs": [
    {
     "name": "stdout",
     "output_type": "stream",
     "text": [
      "What is the motto of the University of California, Berkeley?\n",
      "Motto Fiat lux\n",
      "What is the motto of the University of California?\n",
      "Motto Fiat lux\n",
      "What is the motto of the University of California in Berkeley?\n",
      "Motto Fiat lux\n",
      "What was the former name of the University of California?\n",
      "\n",
      "What was the motto of the University of California?\n",
      "Motto Fiat lux\n",
      "In what year was the University of California, Berkeley established?\n",
      "1868\n",
      "What state is the University of California, Berkeley located in?\n",
      " California\n",
      "What state is the University of California, Berkeley in?\n",
      " California\n",
      "In what year was the University of California, Berkeley founded?\n",
      "1868\n",
      "In what year was the University of California established?\n",
      "1868\n",
      "How many national laboratories does Berkeley host for the U.S. Department of Energy?\n",
      " three\n",
      "What are the three national laboratories for the U.S. Department of Energy?\n",
      "Lawrence Berkeley National\n",
      "Laboratory, Lawrence Livermore National Laboratory, and Los\n",
      "Alamos National Laboratory\n",
      "What are the three national laboratories for the U.S. Department of Energy called?\n",
      "Lawrence Berkeley National\n",
      "Laboratory, Lawrence Livermore National Laboratory, and Los\n",
      "Alamos National Laboratory\n",
      "How many national laboratories does Berkeley have?\n",
      " three\n",
      "How many national laboratories does Berkeley host?\n",
      " three\n",
      "How many members of the National Academy of Engineering are there?\n",
      " 75\n",
      "How many members of the National Academy of Engineering have won the National Medal of Science?\n",
      "\n",
      "How many recipients of the National Medal of Science have been at Berkeley?\n",
      " 68\n",
      "How many recipients of the National Medal of Science have attended Berkeley?\n",
      " 68\n",
      "How many recipients of the National Medal of Science are there?\n",
      " 68\n",
      "How many Academy Award winners were there?\n",
      " 19\n",
      "How many academy award winners were there?\n",
      " 19\n",
      "How many academy award winners were there in the United States?\n",
      " 19\n",
      "How many Academy Award winners are there?\n",
      " 19\n",
      "How many Academy Award winners were there in the United States?\n",
      " 19\n",
      "What is the name of the university that was founded in 2022?\n",
      "<s>\n",
      "What is the nickname of the university?\n",
      "<s>\n",
      "What is the name of the newspaper that is published by the university?\n",
      " The Daily\n",
      "Californian\n",
      "\n",
      "What is the name of the newspaper that covers the University?\n",
      " The Daily\n",
      "\n",
      "What is the name of the newspaper that covers the University of Berkeley?\n",
      " The Daily\n",
      "Californian\n",
      "\n",
      "How many male students made up the fledgling university when it opened in Oakland in 1869?\n",
      " forty\n",
      "How many male students made up the fledgling university when it opened in Oakland?\n",
      " forty\n",
      "How many male students made up the fledgling university when it opened in 1869?\n",
      " forty\n",
      "What is the name of the university's mascot?\n",
      " Oski the Bear\n",
      "How many male students made up the fledgling university when it opened in Oakland in 1869.?\n",
      " forty\n",
      "What year did the university begin admitting women?\n",
      "<s>\n",
      "What was the name of the first female student to graduate from the College of California?\n",
      "1874\n",
      "What was the name of the university that began admitting women in 1874?\n",
      "<s>\n",
      "What was the name of the university that began admitting women in 1870?\n",
      "<s>\n",
      "What was the name of the university that began admitting women the following year?\n",
      "<s>What was the name of the university that began admitting women the following year?</s></s> of California, sugge sted that a\n",
      "new campus site north of Oakland be named in honor  of Anglo-\n",
      "Irish philosophe r George Berkeley\n",
      "What is the name of the University of California system's unofficial flagship campus?\n",
      "Berkeley\n",
      "What is the name of the University of California's unofficial flagship campus?\n",
      "Berkeley\n",
      "What is the name of the University of California's flagship campus?\n",
      "<s>\n",
      "What was the name of the University of California's flagship campus?\n",
      "<s>\n",
      "What is the name of the University of California, Los Angeles?\n",
      "<s>\n",
      "In what year was one of the nation's first ROTC programs established?\n",
      " 1917\n",
      "In what year was one of the nation's first ROTC programs establish?\n",
      " 1917\n",
      "What was the name of the southern branch of the university that became the University of California, Los Angeles?\n",
      " Los Angeles State Normal School\n",
      "What was the name of the southern branch of the university that became the University of California, Los Angeles in 1919?\n",
      " Los Angeles State Normal School\n",
      "In what year did the University of California, Davis become the southern branch of the university?\n",
      "<s>\n",
      "In what year did Chester Nimitz establish the first Naval ROTC unit at Berkeley?\n",
      " 1926\n",
      "In what year was the first Naval ROTC unit established at Berkeley?\n",
      " 1926\n",
      "In what year did Chester Nimitz establish the first Naval ROTC unit?\n",
      " 1926\n",
      "What was the name of the first Naval ROTC unit at Berkeley?\n",
      "<s>\n",
      "In what year was the first Naval ROTC unit at Berkeley established?\n",
      " 1926\n",
      "What is the name of the building where Lawrence's Radiation Lab is located?\n",
      "<s>\n",
      "What is the name of the building where Lawrence's Radiation Lab was located?\n",
      "<s>\n",
      "How many chemical elements did Lawrence Berkeley National Laboratory discover?\n",
      " sixteen\n",
      "How many chemical elements did Lawrence Berkeley National Laboratory discover during World War II?\n",
      " sixteen\n",
      "How many chemical elements were discovered at Berkeley Lab?\n",
      " sixteen\n",
      "In what year did Oppenheimer become the head of the Manhattan Project?\n",
      " 1942\n",
      "In what year did Oppenheimer become head of the Manhattan Project?\n",
      " 1942\n",
      "In what year did Oppenheimer become the head of the Manhattan project?\n",
      " 1942\n",
      "What was the name of Oppenheimer's first job?\n",
      "\n",
      "What was the name of Oppenheimer's lab?\n",
      " Lawrence Berkeley National Laboratory\n",
      "Who became Berkeley's first Chancellor, and Clark Kerr became Berkeley's first Chancellor, while Robert Sproul remained in place as the President of the University of California?\n",
      "<s>\n",
      "Who became Berkeley's first chancellor, and Clark Kerr became Berkeley's first Chancellor, while Robert Sproul remained in place as the President of the University of California?\n",
      "<s>\n",
      "Who became Berkeley's first Chancellor, and Clark Kerr became Berkeley's first Chancellor, while Robert Sproul remained in place as the president of the University of California?\n",
      "<s>\n",
      "Who became Berkeley's first Chancellor, and Clark Kerr became Berkeley's first Chancellor, and Robert Sproul remained in place as the President of the University of California?\n",
      "<s>\n",
      "Who became Berkeley's first Chancellor, and Clark Kerr became Berkeley's first Chancellor?\n",
      "<s>\n",
      "Who was the chair of Campus CORE?\n",
      "<s>\n",
      "What was the name of the mathematician who was the chair of Campus CORE?\n",
      "<s>\n",
      "What was the name of the mathematician who founded the MSRI?\n",
      "\n",
      "What was the name of the mathematician who requested that the MSRI be established on campus?\n",
      "\n",
      "What was the name of the mathematician who requested that the MSRI be established?\n",
      "\n",
      "How many Republicans outnumber Democrats on the faculty by a ratio of nine to one, which is a ratio similar to that of American academia generally?\n",
      "<s>\n",
      "How many Republicans outnumber Democrats on the faculty by a ratio of nine to one?\n",
      "<s>\n",
      "How many Republicans outnumber Democrats on the faculty by a ratio of nine to one, which is a ratio similar to that of American academia generally.?\n",
      "<s>\n",
      "How many Republicans outnumber Democrats on the faculty by a ratio of nine to one, which is a ratio similar to that of American academia generally?\n",
      "<s>\n",
      "How many Republicans outnumber Democrats on the faculty by a ratio of nine to one, which is similar to that of American academia generally?\n",
      "<s>\n",
      "In what year was the Energy Biosciences Institute established with funding from BP and Stanley Hall, a research facility and headqua rters for the California Institute for Quantitative Biosciences, opened?\n",
      " 2007\n",
      "In what year was the Energy Biosciences Institute established with funding from BP and Stanley Hall, a research facility and headqua rters for the California Institute for Quantitative Biosciences opened?\n",
      " 2007\n",
      "In what year was the Energy Biosciences Institute established with funding from BP and Stanley Hall, a research facility and headquaters for the California Institute for Quantitative Biosciences, opened?\n",
      " 2007\n",
      "In what year was the Energy Biosciences Institute established with funding from BP and Stanley Hall, a research facility and headquarters for the California Institute for Quantitative Biosciences, opened?\n",
      " 2007\n",
      "In what year was the Simons Institute for the Theory of Computing established?\n",
      " 2012\n",
      "What is the name of the donor who pledged $252 million to help fund a new center for computing and data science?\n",
      "<s>\n",
      "What is the name of the donor that pledged $252 million to help fund a new center for computing and data science?\n",
      "<s>\n",
      "What did the anonymous donor21st centurypledge to help fund a new center for computing and data science?\n",
      " $252 million\n",
      "What was the name of the donor who pledged $252 million to help fund a new center for computing and data science?\n",
      "<s>\n",
      "What is the name of the donor who pledged $252 million to help fund a new center for computing and data science\n",
      "<s>What is the name of the donor who pledged $252 million to help fund a new center for computing and data science</s></s>, an anonym ous donor21st century\n",
      "What has PETA challenged the university's use of animals for research and argued that it may violate the Animal Welfare Act?\n",
      "<s>\n",
      "What is the name of the university that incurred a controversial $445 million of debt for the stadium?\n",
      "\n",
      "What has PETA challenged the university's use of animals for research?\n",
      "Animal Welfare Act\n",
      "What has PETA challenged the university's use of animals for research and argued it may violate the Animal Welfare Act?\n",
      "<s>\n",
      "What has PETA challenged the university's use of animals for research and argued that it may violate?\n",
      "Animal Welfare Act\n",
      "How much of Cal's athletics' budget does the debt consume?\n",
      " 20 percent\n",
      "How much of Cal's athletics budget does the debt consume?\n",
      " 20 percent\n",
      "How much of Cal's athletics' budget is consumed by the debt?\n",
      " 20 percent\n",
      "How much of Cal's athletics' budget does the debt consume each year?\n",
      " 20 percent\n",
      "How much of Cal's athletics budget is consumed by the debt?\n",
      " 20 percent\n",
      "What did the White House Task Force to Protect Students from Sexual Assault aw over the handling of sexual violence and harassment complaints\" by the White House Task Force to Protect Students from Sexual Assault?\n",
      "<s>\n",
      "What did the White House Task Force to Protect Students from Sexual Assault aw over the handling of sexual violence and harassment complaints?\" by the White House Task Force to Protect Students from Sexual Assault?\n",
      "<s>\n",
      "What did the White House Task Force to Protect Students from Sexual Assault aw over the handling of sexual violence and harassment complaints?\n",
      "<s>\n",
      "What did the White House Task Force to Protect Students from Sexual Assault aw over the handling of sexual violence and harassment complaints?\" by the White House Task Force to Protect Students from Sexual Assault.?\n",
      "<s>\n",
      "What did the White House Task Force to Protect Students from Sexual Assault aw over the handling of sexual violence and harassment complaints\" by the White House Task Force to Protect Students from Sexual Assault?\"\n",
      "<s>\n",
      "What was the correct average alumni giving rate for the 2016 fiscal year?\n",
      "\n",
      "7.9 percent\n",
      "How many percent of the Best Colleges ranking does the alumni giving rate account for?\n",
      " five\n",
      "What was the average alumni giving rate for the 2016 fiscal year?\n",
      "\n",
      "7.9 percent\n",
      "How many percent of the Best Colleges ranking does the alumni giving rate accounts for?\n",
      " five\n",
      "How many percent of the Best Colleges ranking does the alumni giving rate account for?\n",
      " five\n",
      "What is the name of the court that ruled in favor of the residents?\n",
      " Superior Court of Alameda County\n",
      "What was the name of the court that ruled in favor of the residents?\n",
      " Superior Court of Alameda County\n",
      "In what year did the California Supreme Court rule in favor of the residents?\n",
      " 2022\n",
      "What was the name of the judge who ruled in favor of the residents?\n",
      "<s>\n",
      "What is the name of the court that ruled in favor of the community?\n",
      "<s>What is the name of the court that ruled in favor of the community?</s></s>enrollment violated\n",
      "California Environmental Quality Act and that the area lacked the infrastructure to support\n",
      "more students.[77] Critics of the lawsuit accused these community members of\n",
      "NIMBYism.[78][79][80] In August 2021, a judge from the Superior Court of Alameda County\n",
      "What was the name of the bill that Gavin Newsom signed into law?\n",
      "\n",
      "CEQA\n",
      "What did Gavin Newsom sign into law on March 14?\n",
      "\n",
      "CEQA\n",
      "What was the name of the bill that Gavin Newsom signed into law on March 14?\n",
      "\n",
      "CEQA\n",
      "What did Gavin Newsom sign into law?\n",
      "<s>\n",
      "What did Gavin Newsom sign into law on March 14th?\n",
      "\n",
      "CEQA\n",
      "What is the name of the university task force that recommended renaming the athletic identity to \"Cal Berkeley\" to further tie the athletic brand to academic prestige, and reduce public confusion?\n",
      "<s>\n",
      "What is the name of the university task force that recommended renaming the athletic identity to \"Cal Berkeley\" to further tie the athletic brand to academic prestige?\n",
      "<s>\n",
      "What is the name of the university task force that recommended renaming the athletic identity to \"Cal Berkeley\"?\n",
      "<s>\n",
      "What is the name of the university task force that recommended renaming the athletic identity to \"Cal Berkeley\" to further tie the athletic brand to academic prestige and reduce public confusion?\n",
      "<s>\n",
      "How many members of the Board of Regents are appointed by the Governor of California to 12-year terms?\n",
      " eighteen\n",
      "How many vice chancellors report directly to Berkeley's chancellor?\n",
      " Twelve\n",
      "How many vice chancellors report directly to Berkeley's chancellor, and the deans of the fifteen colleges and schools re?\n",
      " Twelve\n",
      "How many vice- chancellors report directly to Berkeley's chancellor, and the deans of the fifteen colleges and schools re?\n",
      " Twelve\n",
      "How many vice- chancellors report directly to Berkeley's chancellor?\n",
      " Twelve\n",
      "How many vice chancellors report directly to Berkeley's chancellor, and the deans of the fifteen colleges and schools?\n",
      " Twelve\n",
      "How many presidents and chancellors have led Berkeley since its founding?\n",
      " Twenty-three\n",
      "How many presidents and chancellors have been at Berkeley since its founding?\n",
      " Twenty-three\n",
      "How many presidents and chancellors have led Berkeley?\n",
      " Twenty-three\n",
      "How many presidents and chancellors has Berkeley had?\n",
      " Twenty-three\n",
      "How many presidents and chancellors has Berkeley had since its founding?\n",
      " Twenty-three\n",
      "How many years did Clark Kerr serve as the Chancellor of the University of California?\n",
      "<s>\n",
      "How many years did Clark Kerr serve as Chancellor of the University of California?\n",
      "<s>\n",
      "How many years did Clark Kerr serve as Chancellor?\n",
      "<s>\n",
      "Who was the first Chancellor of the University of California?\n",
      "<s>\n",
      "How many years was Roger Heyns Chancellor?\n",
      "<s>\n",
      "How many percent of Berkeley's total revenues does private philanthropy account for?\n",
      "<s>\n",
      "How many percent of Berkeley's total revenue does private philanthropy account for?\n",
      "<s>\n",
      "How many percent of Berkeley's total revenues does philanthropy account for?\n",
      "<s>\n",
      "How many percent of Berkeley's total revenues come from private philanthropy?\n",
      " 12\n",
      "How many percent of Berkeley's total revenues does private philanthropy contribute?\n",
      "\n",
      "Who are the principals of Jane Street, along with Matt Berger, Craig Falls, Rob Granieri, James McClave, and Adam Winkel; BP; the Bill and Melinda Gates Founda tion, billionaire Sir Li Ka-Shing, Israeli-Russian billionaire\n",
      " Huang Gil, Daniel Gross, Dustin Moskovitz and Cari Tuna, and\n",
      "Hemant and Jessica Taneja\n",
      "Who are the principals of Jane Street, along with Matt Berger, Craig Falls, Rob Granieri, James McClave, and Adam Winkel; BP, the Bill and Melinda Gates Founda tion, billionaire Sir Li Ka-Shing, Israeli-Russian billionaire\n",
      " Huang Gil, Daniel Gross, Dustin Moskovitz and Cari Tuna, and\n",
      "Hemant and Jessica Taneja\n",
      "Who are the principals of Jane Street, along with Matt Berger, Craig Falls, Rob Granieri, James McClave, and Adam Winkel; BP; the Bill and Melinda Gates Foundation, billionaire Sir Li Ka-Shing, Israeli-Russian billionaire Yuri\n",
      "<s>Who are the principals of Jane Street, along with Matt Berger, Craig Falls, Rob Granieri, James McClave, and Adam Winkel; BP; the Bill and Melinda Gates Foundation, billionaire Sir Li Ka-Shing, Israeli-Russian billionaire Yuri</s></s>r Huang Gil, Daniel Gross, Dustin Moskovitz and Cari Tuna, and\n",
      "Hemant and Jessica Taneja\n",
      "Who are the principals of Jane Street, along with Matt Berger, Craig Falls, Rob Granieri, James McClave, and Adam Winkel, BP; the Bill and Melinda Gates Founda tion, billionaire Sir Li Ka-Shing, Israeli-Russian billionaire\n",
      " Huang Gil, Daniel Gross, Dustin Moskovitz and Cari Tuna, and\n",
      "Hemant and Jessica Taneja\n",
      "Who are the principals of Jane Street, along with Matt Berger, Craig Falls, Rob Granieri, James McClave, and Adam Winkel, and BP; the Bill and Melinda Gates Founda tion, billionaire Sir Li Ka-Shing, Israeli-Russian billion\n",
      " Huang Gil, Daniel Gross, Dustin Moskovitz and Cari Tuna, and\n",
      "Hemant and Jessica Taneja\n"
     ]
    }
   ],
   "source": [
    "for i in range(150):\n",
    "    print(dataset[i][\"question\"])\n",
    "    print(dataset[i][\"cot_answer\"])"
   ]
  }
 ],
 "metadata": {
  "kernelspec": {
   "display_name": "env_raft",
   "language": "python",
   "name": "python3"
  },
  "language_info": {
   "codemirror_mode": {
    "name": "ipython",
    "version": 3
   },
   "file_extension": ".py",
   "mimetype": "text/x-python",
   "name": "python",
   "nbconvert_exporter": "python",
   "pygments_lexer": "ipython3",
   "version": "3.11.10"
  }
 },
 "nbformat": 4,
 "nbformat_minor": 4
}
